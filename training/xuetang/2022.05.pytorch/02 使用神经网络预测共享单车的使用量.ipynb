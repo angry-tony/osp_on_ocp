{
 "cells": [
  {
   "cell_type": "markdown",
   "metadata": {
    "collapsed": false
   },
   "source": [
    "# PyTorch 入门与实战 \n",
    "\n",
    "# 实验2：使用神经网络预测共享单车的使用量"
   ]
  },
  {
   "cell_type": "markdown",
   "metadata": {
    "collapsed": false
   },
   "source": [
    "<h2><a id=\"introduction\">一、实验介绍</a></h2>\n",
    "\n",
    "### 1.1 实验内容"
   ]
  },
  {
   "cell_type": "markdown",
   "metadata": {
    "collapsed": false
   },
   "source": [
    "在本次实验中，我们将设计我们的第一个有实用价值的人工神经网络，并用它来预测未来某地区租赁单车的使用情况。"
   ]
  },
  {
   "cell_type": "markdown",
   "metadata": {
    "collapsed": false
   },
   "source": [
    "### 1.2 实验知识点"
   ]
  },
  {
   "cell_type": "markdown",
   "metadata": {
    "collapsed": false
   },
   "source": [
    "- 数据归一化、类型变量的转换\n",
    "- 搭建基本神经网络的方法\n",
    "- 数据分批次训练原则\n",
    "- 测试及简单分析神经网络的方法"
   ]
  },
  {
   "cell_type": "markdown",
   "metadata": {
    "collapsed": false
   },
   "source": [
    "### 1.3 实验环境"
   ]
  },
  {
   "cell_type": "markdown",
   "metadata": {
    "collapsed": false
   },
   "source": [
    "- Jupyter Notebook\n",
    "- Python 3.7\n",
    "- PyTorch 0.4.0"
   ]
  },
  {
   "cell_type": "markdown",
   "metadata": {
    "collapsed": false
   },
   "source": [
    "### 1.4 适合人群"
   ]
  },
  {
   "cell_type": "markdown",
   "metadata": {
    "collapsed": false
   },
   "source": [
    "本课程难度为一般，属于深度学习初级实践级别课程，适合初学深度学习，对深度神经网络、反向传播、梯度下降等概念有一定认识的同学。"
   ]
  },
  {
   "cell_type": "markdown",
   "metadata": {
    "collapsed": false
   },
   "source": [
    "<h3 ><a id = \"index\"> 1.5 索引目录</a></h3>"
   ]
  },
  {
   "cell_type": "markdown",
   "metadata": {
    "collapsed": false
   },
   "source": [
    "<a href=\"#introduction\">一、实验介绍</a>\n",
    "\n",
    "<a href=\"#start\">二、预处理实验数据</a>\n",
    "\n",
    "<a href=\"#train\">三、构建神经网络模型</a>\n",
    "\n",
    "<a href=\"#load\">四、测试网络</a>"
   ]
  },
  {
   "cell_type": "markdown",
   "metadata": {
    "collapsed": false
   },
   "source": [
    "<h2 ><a id = \"start\">二、预处理实验数据</a></h2>"
   ]
  },
  {
   "cell_type": "markdown",
   "metadata": {
    "collapsed": false
   },
   "source": [
    "### 2.1 读取数据"
   ]
  },
  {
   "cell_type": "markdown",
   "metadata": {
    "collapsed": false
   },
   "source": [
    "首先假设我们是某家共享单车企业的合作伙伴，现在拥有这家公司两年内共享单车的使用数据。\n",
    "\n",
    "那么问题来了，我们的客户，也就是这家共享单车公司，要求我们根据过去两年的单车使用数据训练一个模型出来，用于预测单车在未来的使用量。\n",
    "\n",
    "我该怎么做哪？别慌，在建立模型前，先观察一下这两年间共享单车使用情况的数据。"
   ]
  },
  {
   "cell_type": "markdown",
   "metadata": {
    "collapsed": false
   },
   "source": [
    "**▶ 示例代码：**\n",
    "\n",
    "```python\n",
    "#导入需要使用的库\n",
    "import numpy as np\n",
    "import pandas as pd #读取csv文件的库\n",
    "import matplotlib.pyplot as plt\n",
    "import torch\n",
    "from torch.autograd import Variable\n",
    "import torch.optim as optim\n",
    "\n",
    "# 让输出的图形直接在Notebook中显示\n",
    "%matplotlib inline\n",
    "```\n",
    "\n",
    "**▶ 动手练习：**"
   ]
  },
  {
   "cell_type": "code",
   "execution_count": 38,
   "metadata": {
    "collapsed": false
   },
   "outputs": [],
   "source": [
    "import numpy as np\r\n",
    "import pandas as pd\r\n",
    "import matplotlib.pyplot as plt\r\n",
    "import torch\r\n",
    "from torch.autograd import variable\r\n",
    "import torch.optim as optim\r\n",
    "\r\n",
    "%matplotlib inline"
   ]
  },
  {
   "cell_type": "markdown",
   "metadata": {
    "collapsed": false
   },
   "source": [
    "记录共享单车使用情况的数据都在文件“hour.csv”中，该文件大小为 1.2M，完全可以直接读取到内存中。\n",
    "\n",
    "下面读取这个文件，并运用 pandas 模块的 head 方法，将数据的数据表头和部分数据项打印出来。"
   ]
  },
  {
   "cell_type": "markdown",
   "metadata": {
    "collapsed": false
   },
   "source": [
    "**▶ 示例代码：**\n",
    "\n",
    "```python\n",
    "#首先，让我们再来看看数据长什么样子\n",
    "#读取数据到内存中，rides为一个dataframe对象\n",
    "data_path = 'Bike-Sharing-Dataset/hour.csv'\n",
    "rides = pd.read_csv(data_path)\n",
    "rides.head()\n",
    "```\n",
    "\n",
    "**▶ 动手练习：**"
   ]
  },
  {
   "cell_type": "code",
   "execution_count": 39,
   "metadata": {
    "collapsed": false
   },
   "outputs": [
    {
     "data": {
      "text/html": [
       "<div>\n",
       "<style scoped>\n",
       "    .dataframe tbody tr th:only-of-type {\n",
       "        vertical-align: middle;\n",
       "    }\n",
       "\n",
       "    .dataframe tbody tr th {\n",
       "        vertical-align: top;\n",
       "    }\n",
       "\n",
       "    .dataframe thead th {\n",
       "        text-align: right;\n",
       "    }\n",
       "</style>\n",
       "<table border=\"1\" class=\"dataframe\">\n",
       "  <thead>\n",
       "    <tr style=\"text-align: right;\">\n",
       "      <th></th>\n",
       "      <th>instant</th>\n",
       "      <th>dteday</th>\n",
       "      <th>season</th>\n",
       "      <th>yr</th>\n",
       "      <th>mnth</th>\n",
       "      <th>hr</th>\n",
       "      <th>holiday</th>\n",
       "      <th>weekday</th>\n",
       "      <th>workingday</th>\n",
       "      <th>weathersit</th>\n",
       "      <th>temp</th>\n",
       "      <th>atemp</th>\n",
       "      <th>hum</th>\n",
       "      <th>windspeed</th>\n",
       "      <th>casual</th>\n",
       "      <th>registered</th>\n",
       "      <th>cnt</th>\n",
       "    </tr>\n",
       "  </thead>\n",
       "  <tbody>\n",
       "    <tr>\n",
       "      <th>0</th>\n",
       "      <td>1</td>\n",
       "      <td>2011-01-01</td>\n",
       "      <td>1</td>\n",
       "      <td>0</td>\n",
       "      <td>1</td>\n",
       "      <td>0</td>\n",
       "      <td>0</td>\n",
       "      <td>6</td>\n",
       "      <td>0</td>\n",
       "      <td>1</td>\n",
       "      <td>0.24</td>\n",
       "      <td>0.2879</td>\n",
       "      <td>0.81</td>\n",
       "      <td>0.0</td>\n",
       "      <td>3</td>\n",
       "      <td>13</td>\n",
       "      <td>16</td>\n",
       "    </tr>\n",
       "    <tr>\n",
       "      <th>1</th>\n",
       "      <td>2</td>\n",
       "      <td>2011-01-01</td>\n",
       "      <td>1</td>\n",
       "      <td>0</td>\n",
       "      <td>1</td>\n",
       "      <td>1</td>\n",
       "      <td>0</td>\n",
       "      <td>6</td>\n",
       "      <td>0</td>\n",
       "      <td>1</td>\n",
       "      <td>0.22</td>\n",
       "      <td>0.2727</td>\n",
       "      <td>0.80</td>\n",
       "      <td>0.0</td>\n",
       "      <td>8</td>\n",
       "      <td>32</td>\n",
       "      <td>40</td>\n",
       "    </tr>\n",
       "    <tr>\n",
       "      <th>2</th>\n",
       "      <td>3</td>\n",
       "      <td>2011-01-01</td>\n",
       "      <td>1</td>\n",
       "      <td>0</td>\n",
       "      <td>1</td>\n",
       "      <td>2</td>\n",
       "      <td>0</td>\n",
       "      <td>6</td>\n",
       "      <td>0</td>\n",
       "      <td>1</td>\n",
       "      <td>0.22</td>\n",
       "      <td>0.2727</td>\n",
       "      <td>0.80</td>\n",
       "      <td>0.0</td>\n",
       "      <td>5</td>\n",
       "      <td>27</td>\n",
       "      <td>32</td>\n",
       "    </tr>\n",
       "    <tr>\n",
       "      <th>3</th>\n",
       "      <td>4</td>\n",
       "      <td>2011-01-01</td>\n",
       "      <td>1</td>\n",
       "      <td>0</td>\n",
       "      <td>1</td>\n",
       "      <td>3</td>\n",
       "      <td>0</td>\n",
       "      <td>6</td>\n",
       "      <td>0</td>\n",
       "      <td>1</td>\n",
       "      <td>0.24</td>\n",
       "      <td>0.2879</td>\n",
       "      <td>0.75</td>\n",
       "      <td>0.0</td>\n",
       "      <td>3</td>\n",
       "      <td>10</td>\n",
       "      <td>13</td>\n",
       "    </tr>\n",
       "    <tr>\n",
       "      <th>4</th>\n",
       "      <td>5</td>\n",
       "      <td>2011-01-01</td>\n",
       "      <td>1</td>\n",
       "      <td>0</td>\n",
       "      <td>1</td>\n",
       "      <td>4</td>\n",
       "      <td>0</td>\n",
       "      <td>6</td>\n",
       "      <td>0</td>\n",
       "      <td>1</td>\n",
       "      <td>0.24</td>\n",
       "      <td>0.2879</td>\n",
       "      <td>0.75</td>\n",
       "      <td>0.0</td>\n",
       "      <td>0</td>\n",
       "      <td>1</td>\n",
       "      <td>1</td>\n",
       "    </tr>\n",
       "  </tbody>\n",
       "</table>\n",
       "</div>"
      ],
      "text/plain": [
       "   instant      dteday  season  yr  mnth  hr  holiday  weekday  workingday  \\\n",
       "0        1  2011-01-01       1   0     1   0        0        6           0   \n",
       "1        2  2011-01-01       1   0     1   1        0        6           0   \n",
       "2        3  2011-01-01       1   0     1   2        0        6           0   \n",
       "3        4  2011-01-01       1   0     1   3        0        6           0   \n",
       "4        5  2011-01-01       1   0     1   4        0        6           0   \n",
       "\n",
       "   weathersit  temp   atemp   hum  windspeed  casual  registered  cnt  \n",
       "0           1  0.24  0.2879  0.81        0.0       3          13   16  \n",
       "1           1  0.22  0.2727  0.80        0.0       8          32   40  \n",
       "2           1  0.22  0.2727  0.80        0.0       5          27   32  \n",
       "3           1  0.24  0.2879  0.75        0.0       3          10   13  \n",
       "4           1  0.24  0.2879  0.75        0.0       0           1    1  "
      ]
     },
     "execution_count": 39,
     "metadata": {},
     "output_type": "execute_result"
    }
   ],
   "source": [
    "data_path = 'data/data55353/hour.csv'\r\n",
    "rides = pd.read_csv(data_path)\r\n",
    "rides.head()"
   ]
  },
  {
   "cell_type": "markdown",
   "metadata": {
    "collapsed": false
   },
   "source": [
    "可以观察到，数据文件记录了每小时（hr）共享单车的使用数量（cnt），\n",
    "\n",
    "除了这两个数据项外，还包括当天的日期（dteday），季节（season），星期几（weekday），是否是假期（holiday），\n",
    "\n",
    "当天的温度、湿度、风速、用户是否注册等等，我们就是要使用这些数据训练神经网络模型。\n",
    "\n"
   ]
  },
  {
   "cell_type": "markdown",
   "metadata": {
    "collapsed": false
   },
   "source": [
    "### 2.2. 对于类型变量的处理"
   ]
  },
  {
   "cell_type": "markdown",
   "metadata": {
    "collapsed": false
   },
   "source": [
    "数据文件中的数据往往不能直接用来训练神经网络模型。\n",
    "\n",
    "因为这些数据具有不同的数据类型，不同的取值范围，\n",
    "\n",
    "在将它们用在神经网络模型中之前，要对这些数据进行一系列的预处理。\n"
   ]
  },
  {
   "cell_type": "markdown",
   "metadata": {
    "collapsed": false
   },
   "source": [
    "首先是类型变量。\n",
    "\n",
    "类型变量是指这个变量的不同值仅仅表达不同的类型，值的大小不同但没有高低之分。\n",
    "\n",
    "有很多变量都属于类型变量，例如 `season=1,2,3,4` 代表四季。\n",
    "\n",
    "我们不能将 season 变量直接输入到神经网络，这是因为 season 数值越高并不表示相应的信号强度越大。\n",
    "\n",
    "解决方案是将类型变量用一个“一位热码“（one-hot）来编码，也就是：\n",
    "\n",
    "$\n",
    "season = 1 \\rightarrow (1, 0, 0 ,0) \\\\\n",
    "season = 2 \\rightarrow (0, 1, 0, 0) \\\\\n",
    "season = 3 \\rightarrow (0, 0, 1, 0) \\\\\n",
    "season = 4 \\rightarrow (0, 0, 0, 1) \\\\\n",
    "$\n",
    "\n",
    "因此，如果一个类型变量有 n 个不同取值，那么我 one-hot 所对应的向量长度就为 n。"
   ]
  },
  {
   "cell_type": "markdown",
   "metadata": {
    "collapsed": false
   },
   "source": [
    "\n",
    "![](https://ai-studio-static-online.cdn.bcebos.com/f58330f91f6e4ed7b8bf7d5c21d6636b6e3748ea0e224ef0a931ecda9441309d)\n"
   ]
  },
  {
   "cell_type": "markdown",
   "metadata": {
    "collapsed": false
   },
   "source": [
    "**▶ 示例代码：**\n",
    "\n",
    "```python\n",
    "#对于类型变量的特殊处理\n",
    "# season=1,2,3,4, weathersi=1,2,3, mnth= 1,2,...,12, hr=0,1, ...,23, weekday=0,1,...,6\n",
    "# 经过下面的处理后，将会多出若干特征，例如，对于season变量就会有 season_1, season_2, season_3, season_4\n",
    "# 这四种不同的特征。\n",
    "dummy_fields = ['season', 'weathersit', 'mnth', 'hr', 'weekday']\n",
    "for each in dummy_fields:\n",
    "    #利用pandas对象，我们可以很方便地将一个类型变量属性进行one-hot编码，变成多个属性\n",
    "    dummies = pd.get_dummies(rides[each], prefix=each, drop_first=False)\n",
    "    rides = pd.concat([rides, dummies], axis=1)\n",
    "\n",
    "# 把原有的类型变量对应的特征去掉，将一些不相关的特征去掉\n",
    "fields_to_drop = ['instant', 'dteday', 'season', 'weathersit', \n",
    "                  'weekday', 'atemp', 'mnth', 'workingday', 'hr']\n",
    "data = rides.drop(fields_to_drop, axis=1)\n",
    "data.head()\n",
    "```\n",
    "\n",
    "**▶ 动手练习：**"
   ]
  },
  {
   "cell_type": "code",
   "execution_count": 40,
   "metadata": {
    "collapsed": false
   },
   "outputs": [
    {
     "data": {
      "text/html": [
       "<div>\n",
       "<style scoped>\n",
       "    .dataframe tbody tr th:only-of-type {\n",
       "        vertical-align: middle;\n",
       "    }\n",
       "\n",
       "    .dataframe tbody tr th {\n",
       "        vertical-align: top;\n",
       "    }\n",
       "\n",
       "    .dataframe thead th {\n",
       "        text-align: right;\n",
       "    }\n",
       "</style>\n",
       "<table border=\"1\" class=\"dataframe\">\n",
       "  <thead>\n",
       "    <tr style=\"text-align: right;\">\n",
       "      <th></th>\n",
       "      <th>yr</th>\n",
       "      <th>holiday</th>\n",
       "      <th>temp</th>\n",
       "      <th>hum</th>\n",
       "      <th>windspeed</th>\n",
       "      <th>casual</th>\n",
       "      <th>registered</th>\n",
       "      <th>cnt</th>\n",
       "      <th>season_1</th>\n",
       "      <th>season_2</th>\n",
       "      <th>...</th>\n",
       "      <th>hr_21</th>\n",
       "      <th>hr_22</th>\n",
       "      <th>hr_23</th>\n",
       "      <th>weekday_0</th>\n",
       "      <th>weekday_1</th>\n",
       "      <th>weekday_2</th>\n",
       "      <th>weekday_3</th>\n",
       "      <th>weekday_4</th>\n",
       "      <th>weekday_5</th>\n",
       "      <th>weekday_6</th>\n",
       "    </tr>\n",
       "  </thead>\n",
       "  <tbody>\n",
       "    <tr>\n",
       "      <th>0</th>\n",
       "      <td>0</td>\n",
       "      <td>0</td>\n",
       "      <td>0.24</td>\n",
       "      <td>0.81</td>\n",
       "      <td>0.0</td>\n",
       "      <td>3</td>\n",
       "      <td>13</td>\n",
       "      <td>16</td>\n",
       "      <td>1</td>\n",
       "      <td>0</td>\n",
       "      <td>...</td>\n",
       "      <td>0</td>\n",
       "      <td>0</td>\n",
       "      <td>0</td>\n",
       "      <td>0</td>\n",
       "      <td>0</td>\n",
       "      <td>0</td>\n",
       "      <td>0</td>\n",
       "      <td>0</td>\n",
       "      <td>0</td>\n",
       "      <td>1</td>\n",
       "    </tr>\n",
       "    <tr>\n",
       "      <th>1</th>\n",
       "      <td>0</td>\n",
       "      <td>0</td>\n",
       "      <td>0.22</td>\n",
       "      <td>0.80</td>\n",
       "      <td>0.0</td>\n",
       "      <td>8</td>\n",
       "      <td>32</td>\n",
       "      <td>40</td>\n",
       "      <td>1</td>\n",
       "      <td>0</td>\n",
       "      <td>...</td>\n",
       "      <td>0</td>\n",
       "      <td>0</td>\n",
       "      <td>0</td>\n",
       "      <td>0</td>\n",
       "      <td>0</td>\n",
       "      <td>0</td>\n",
       "      <td>0</td>\n",
       "      <td>0</td>\n",
       "      <td>0</td>\n",
       "      <td>1</td>\n",
       "    </tr>\n",
       "    <tr>\n",
       "      <th>2</th>\n",
       "      <td>0</td>\n",
       "      <td>0</td>\n",
       "      <td>0.22</td>\n",
       "      <td>0.80</td>\n",
       "      <td>0.0</td>\n",
       "      <td>5</td>\n",
       "      <td>27</td>\n",
       "      <td>32</td>\n",
       "      <td>1</td>\n",
       "      <td>0</td>\n",
       "      <td>...</td>\n",
       "      <td>0</td>\n",
       "      <td>0</td>\n",
       "      <td>0</td>\n",
       "      <td>0</td>\n",
       "      <td>0</td>\n",
       "      <td>0</td>\n",
       "      <td>0</td>\n",
       "      <td>0</td>\n",
       "      <td>0</td>\n",
       "      <td>1</td>\n",
       "    </tr>\n",
       "    <tr>\n",
       "      <th>3</th>\n",
       "      <td>0</td>\n",
       "      <td>0</td>\n",
       "      <td>0.24</td>\n",
       "      <td>0.75</td>\n",
       "      <td>0.0</td>\n",
       "      <td>3</td>\n",
       "      <td>10</td>\n",
       "      <td>13</td>\n",
       "      <td>1</td>\n",
       "      <td>0</td>\n",
       "      <td>...</td>\n",
       "      <td>0</td>\n",
       "      <td>0</td>\n",
       "      <td>0</td>\n",
       "      <td>0</td>\n",
       "      <td>0</td>\n",
       "      <td>0</td>\n",
       "      <td>0</td>\n",
       "      <td>0</td>\n",
       "      <td>0</td>\n",
       "      <td>1</td>\n",
       "    </tr>\n",
       "    <tr>\n",
       "      <th>4</th>\n",
       "      <td>0</td>\n",
       "      <td>0</td>\n",
       "      <td>0.24</td>\n",
       "      <td>0.75</td>\n",
       "      <td>0.0</td>\n",
       "      <td>0</td>\n",
       "      <td>1</td>\n",
       "      <td>1</td>\n",
       "      <td>1</td>\n",
       "      <td>0</td>\n",
       "      <td>...</td>\n",
       "      <td>0</td>\n",
       "      <td>0</td>\n",
       "      <td>0</td>\n",
       "      <td>0</td>\n",
       "      <td>0</td>\n",
       "      <td>0</td>\n",
       "      <td>0</td>\n",
       "      <td>0</td>\n",
       "      <td>0</td>\n",
       "      <td>1</td>\n",
       "    </tr>\n",
       "  </tbody>\n",
       "</table>\n",
       "<p>5 rows × 59 columns</p>\n",
       "</div>"
      ],
      "text/plain": [
       "   yr  holiday  temp   hum  windspeed  casual  registered  cnt  season_1  \\\n",
       "0   0        0  0.24  0.81        0.0       3          13   16         1   \n",
       "1   0        0  0.22  0.80        0.0       8          32   40         1   \n",
       "2   0        0  0.22  0.80        0.0       5          27   32         1   \n",
       "3   0        0  0.24  0.75        0.0       3          10   13         1   \n",
       "4   0        0  0.24  0.75        0.0       0           1    1         1   \n",
       "\n",
       "   season_2  ...  hr_21  hr_22  hr_23  weekday_0  weekday_1  weekday_2  \\\n",
       "0         0  ...      0      0      0          0          0          0   \n",
       "1         0  ...      0      0      0          0          0          0   \n",
       "2         0  ...      0      0      0          0          0          0   \n",
       "3         0  ...      0      0      0          0          0          0   \n",
       "4         0  ...      0      0      0          0          0          0   \n",
       "\n",
       "   weekday_3  weekday_4  weekday_5  weekday_6  \n",
       "0          0          0          0          1  \n",
       "1          0          0          0          1  \n",
       "2          0          0          0          1  \n",
       "3          0          0          0          1  \n",
       "4          0          0          0          1  \n",
       "\n",
       "[5 rows x 59 columns]"
      ]
     },
     "execution_count": 40,
     "metadata": {},
     "output_type": "execute_result"
    }
   ],
   "source": [
    "dummy_fields = ['season', 'weathersit', 'mnth', 'hr', 'weekday']\r\n",
    "for each in dummy_fields:\r\n",
    "    dummies = pd.get_dummies( rides[each], prefix=each, drop_first=False )\r\n",
    "    rides = pd.concat( [rides, dummies], axis=1 )\r\n",
    "\r\n",
    "fields_to_drop = [ 'instant', 'dteday', 'season', 'weathersit', 'weekday', 'atemp', 'mnth', 'workingday', 'hr']\r\n",
    "\r\n",
    "data = rides.drop( fields_to_drop, axis=1 )\r\n",
    "\r\n",
    "data.head()"
   ]
  },
  {
   "cell_type": "markdown",
   "metadata": {
    "collapsed": false
   },
   "source": [
    "从显示出的数据中可以看到一年四季、12 个月份、24 个小时数、一周 7 天、天气情况都已经被转化成了 one-hot 变量。"
   ]
  },
  {
   "cell_type": "markdown",
   "metadata": {
    "collapsed": false
   },
   "source": [
    "### 2.3. 对于数值类型变量进行标准化"
   ]
  },
  {
   "cell_type": "markdown",
   "metadata": {
    "collapsed": false
   },
   "source": [
    "由于每个数值型变量都是相互独立的，所以它们的数值绝对大小与问题本身没有关系。\n",
    "\n",
    "为了消除数值大小的差异，我们对每一个数值型变量进行标准化处理，也就是让其数值都围绕着0左右波动。\n",
    "\n",
    "比如，对于温度 temp 这个变量来说，\n",
    "\n",
    "它在整个数据库取值的平均值为 mean(temp)，方差为 std(temp)，所以，归一化的温度计算为：\n",
    "\n",
    "$ temp'=\\frac{temp - mean(temp)}{std(temp)}$\n",
    "\n",
    "这样做的好处就是可以将不同的取值范围的变量设置为让它们处于一个平等的地位。"
   ]
  },
  {
   "cell_type": "markdown",
   "metadata": {
    "collapsed": false
   },
   "source": [
    "**▶ 示例代码：**\n",
    "\n",
    "```python\n",
    "# 调整所有的特征，标准化处理\n",
    "quant_features = ['cnt', 'temp', 'hum', 'windspeed']\n",
    "#quant_features = ['temp', 'hum', 'windspeed']\n",
    "\n",
    "# 我们将每一个变量的均值和方差都存储到scaled_features变量中。\n",
    "scaled_features = {}\n",
    "for each in quant_features:\n",
    "    mean, std = data[each].mean(), data[each].std()\n",
    "    scaled_features[each] = [mean, std]\n",
    "    data.loc[:, each] = (data[each] - mean)/std\n",
    "```\n",
    "\n",
    "**▶ 动手练习：**"
   ]
  },
  {
   "cell_type": "code",
   "execution_count": 41,
   "metadata": {
    "collapsed": false
   },
   "outputs": [],
   "source": [
    "quant_features = ['cnt', 'temp', 'hum', 'windspeed']\r\n",
    "\r\n",
    "scaled_features = {}\r\n",
    "\r\n",
    "for each in quant_features:\r\n",
    "    mean, std = data[each].mean(), data[each].std()\r\n",
    "    scaled_features[each] = [mean, std]\r\n",
    "    data.loc[:, each] = ( data[each] - mean) / std"
   ]
  },
  {
   "cell_type": "markdown",
   "metadata": {
    "collapsed": false
   },
   "source": [
    "### 2.4. 将数据集进行分割"
   ]
  },
  {
   "cell_type": "markdown",
   "metadata": {
    "collapsed": false
   },
   "source": [
    "预处理做完以后，我们的数据集包含了 17379 条记录，59 个变量。\n",
    "\n",
    "接下来，将对这个数据集进行划分。\n",
    "\n",
    "首先，在变量集合上，我们分为了特征和目标两个集合。\n",
    "\n",
    "其中，特征变量集合包括：年份（yr），是否节假日（ holiday），温度（temp），湿度（hum），风速（windspeed），季节1～4（season），天气1～4（weathersit，不同天气种类），月份1～12（mnth），小时0～23（hr），星期0～6（weekday），它们是输入给神经网络的变量；\n",
    "\n",
    "目标变量包括：用户数（cnt），临时用户数（casual），以及注册用户数（registered），其中我们仅仅将 cnt 作为我们的目标变量，另外两个暂时不做任何处理。\n",
    "\n",
    "这样我们就将利用 56 个特征变量作为神经网络的输入，来预测 1 个变量作为神经网络的输出。\n",
    "\n",
    "接下来，我们再将 17379 条纪录划分为两个集合，分别为前 16875 条记录作为训练集训练我们的神经网络；后 21 天的数据，也就是 21x24=504 条记录作为测试集来检验我们的模型的预测效果。这一部分数据是不参与神经网络训练的。"
   ]
  },
  {
   "cell_type": "markdown",
   "metadata": {
    "collapsed": false
   },
   "source": [
    "\n",
    "![](https://ai-studio-static-online.cdn.bcebos.com/18a06511979e4194a12e9d79f7dab0a500ca84a5f9ee45e2b66503e98ec97588)\n"
   ]
  },
  {
   "cell_type": "markdown",
   "metadata": {
    "collapsed": false
   },
   "source": [
    "**▶ 示例代码：**\n",
    "\n",
    "```python\n",
    "# 将所有的数据集分为测试集和训练集，我们以后21天数据一共21*24个数据点作为测试集，其它是训练集\n",
    "test_data = data[-21*24:]\n",
    "train_data = data[:-21*24]\n",
    "print('训练数据：',len(train_data),'测试数据：',len(test_data))\n",
    "\n",
    "# 将我们的数据列分为特征列和目标列\n",
    "\n",
    "#目标列\n",
    "target_fields = ['cnt', 'casual', 'registered']\n",
    "features, targets = train_data.drop(target_fields, axis=1), train_data[target_fields]\n",
    "test_features, test_targets = test_data.drop(target_fields, axis=1), test_data[target_fields]\n",
    "\n",
    "# 将数据从pandas dataframe转换为numpy\n",
    "X = features.values\n",
    "Y = targets['cnt'].values\n",
    "Y = Y.astype(float)\n",
    "\n",
    "Y = np.reshape(Y, [len(Y),1])\n",
    "losses = []\n",
    "\n",
    "features.head()\n",
    "```\n",
    "\n",
    "**▶ 动手练习：**"
   ]
  },
  {
   "cell_type": "code",
   "execution_count": 42,
   "metadata": {
    "collapsed": false
   },
   "outputs": [
    {
     "name": "stdout",
     "output_type": "stream",
     "text": [
      "train data:  16875 , test data:  504\n"
     ]
    },
    {
     "data": {
      "text/html": [
       "<div>\n",
       "<style scoped>\n",
       "    .dataframe tbody tr th:only-of-type {\n",
       "        vertical-align: middle;\n",
       "    }\n",
       "\n",
       "    .dataframe tbody tr th {\n",
       "        vertical-align: top;\n",
       "    }\n",
       "\n",
       "    .dataframe thead th {\n",
       "        text-align: right;\n",
       "    }\n",
       "</style>\n",
       "<table border=\"1\" class=\"dataframe\">\n",
       "  <thead>\n",
       "    <tr style=\"text-align: right;\">\n",
       "      <th></th>\n",
       "      <th>yr</th>\n",
       "      <th>holiday</th>\n",
       "      <th>temp</th>\n",
       "      <th>hum</th>\n",
       "      <th>windspeed</th>\n",
       "      <th>season_1</th>\n",
       "      <th>season_2</th>\n",
       "      <th>season_3</th>\n",
       "      <th>season_4</th>\n",
       "      <th>weathersit_1</th>\n",
       "      <th>...</th>\n",
       "      <th>hr_21</th>\n",
       "      <th>hr_22</th>\n",
       "      <th>hr_23</th>\n",
       "      <th>weekday_0</th>\n",
       "      <th>weekday_1</th>\n",
       "      <th>weekday_2</th>\n",
       "      <th>weekday_3</th>\n",
       "      <th>weekday_4</th>\n",
       "      <th>weekday_5</th>\n",
       "      <th>weekday_6</th>\n",
       "    </tr>\n",
       "  </thead>\n",
       "  <tbody>\n",
       "    <tr>\n",
       "      <th>0</th>\n",
       "      <td>0</td>\n",
       "      <td>0</td>\n",
       "      <td>-1.334609</td>\n",
       "      <td>0.947345</td>\n",
       "      <td>-1.553844</td>\n",
       "      <td>1</td>\n",
       "      <td>0</td>\n",
       "      <td>0</td>\n",
       "      <td>0</td>\n",
       "      <td>1</td>\n",
       "      <td>...</td>\n",
       "      <td>0</td>\n",
       "      <td>0</td>\n",
       "      <td>0</td>\n",
       "      <td>0</td>\n",
       "      <td>0</td>\n",
       "      <td>0</td>\n",
       "      <td>0</td>\n",
       "      <td>0</td>\n",
       "      <td>0</td>\n",
       "      <td>1</td>\n",
       "    </tr>\n",
       "    <tr>\n",
       "      <th>1</th>\n",
       "      <td>0</td>\n",
       "      <td>0</td>\n",
       "      <td>-1.438475</td>\n",
       "      <td>0.895513</td>\n",
       "      <td>-1.553844</td>\n",
       "      <td>1</td>\n",
       "      <td>0</td>\n",
       "      <td>0</td>\n",
       "      <td>0</td>\n",
       "      <td>1</td>\n",
       "      <td>...</td>\n",
       "      <td>0</td>\n",
       "      <td>0</td>\n",
       "      <td>0</td>\n",
       "      <td>0</td>\n",
       "      <td>0</td>\n",
       "      <td>0</td>\n",
       "      <td>0</td>\n",
       "      <td>0</td>\n",
       "      <td>0</td>\n",
       "      <td>1</td>\n",
       "    </tr>\n",
       "    <tr>\n",
       "      <th>2</th>\n",
       "      <td>0</td>\n",
       "      <td>0</td>\n",
       "      <td>-1.438475</td>\n",
       "      <td>0.895513</td>\n",
       "      <td>-1.553844</td>\n",
       "      <td>1</td>\n",
       "      <td>0</td>\n",
       "      <td>0</td>\n",
       "      <td>0</td>\n",
       "      <td>1</td>\n",
       "      <td>...</td>\n",
       "      <td>0</td>\n",
       "      <td>0</td>\n",
       "      <td>0</td>\n",
       "      <td>0</td>\n",
       "      <td>0</td>\n",
       "      <td>0</td>\n",
       "      <td>0</td>\n",
       "      <td>0</td>\n",
       "      <td>0</td>\n",
       "      <td>1</td>\n",
       "    </tr>\n",
       "    <tr>\n",
       "      <th>3</th>\n",
       "      <td>0</td>\n",
       "      <td>0</td>\n",
       "      <td>-1.334609</td>\n",
       "      <td>0.636351</td>\n",
       "      <td>-1.553844</td>\n",
       "      <td>1</td>\n",
       "      <td>0</td>\n",
       "      <td>0</td>\n",
       "      <td>0</td>\n",
       "      <td>1</td>\n",
       "      <td>...</td>\n",
       "      <td>0</td>\n",
       "      <td>0</td>\n",
       "      <td>0</td>\n",
       "      <td>0</td>\n",
       "      <td>0</td>\n",
       "      <td>0</td>\n",
       "      <td>0</td>\n",
       "      <td>0</td>\n",
       "      <td>0</td>\n",
       "      <td>1</td>\n",
       "    </tr>\n",
       "    <tr>\n",
       "      <th>4</th>\n",
       "      <td>0</td>\n",
       "      <td>0</td>\n",
       "      <td>-1.334609</td>\n",
       "      <td>0.636351</td>\n",
       "      <td>-1.553844</td>\n",
       "      <td>1</td>\n",
       "      <td>0</td>\n",
       "      <td>0</td>\n",
       "      <td>0</td>\n",
       "      <td>1</td>\n",
       "      <td>...</td>\n",
       "      <td>0</td>\n",
       "      <td>0</td>\n",
       "      <td>0</td>\n",
       "      <td>0</td>\n",
       "      <td>0</td>\n",
       "      <td>0</td>\n",
       "      <td>0</td>\n",
       "      <td>0</td>\n",
       "      <td>0</td>\n",
       "      <td>1</td>\n",
       "    </tr>\n",
       "  </tbody>\n",
       "</table>\n",
       "<p>5 rows × 56 columns</p>\n",
       "</div>"
      ],
      "text/plain": [
       "   yr  holiday      temp       hum  windspeed  season_1  season_2  season_3  \\\n",
       "0   0        0 -1.334609  0.947345  -1.553844         1         0         0   \n",
       "1   0        0 -1.438475  0.895513  -1.553844         1         0         0   \n",
       "2   0        0 -1.438475  0.895513  -1.553844         1         0         0   \n",
       "3   0        0 -1.334609  0.636351  -1.553844         1         0         0   \n",
       "4   0        0 -1.334609  0.636351  -1.553844         1         0         0   \n",
       "\n",
       "   season_4  weathersit_1  ...  hr_21  hr_22  hr_23  weekday_0  weekday_1  \\\n",
       "0         0             1  ...      0      0      0          0          0   \n",
       "1         0             1  ...      0      0      0          0          0   \n",
       "2         0             1  ...      0      0      0          0          0   \n",
       "3         0             1  ...      0      0      0          0          0   \n",
       "4         0             1  ...      0      0      0          0          0   \n",
       "\n",
       "   weekday_2  weekday_3  weekday_4  weekday_5  weekday_6  \n",
       "0          0          0          0          0          1  \n",
       "1          0          0          0          0          1  \n",
       "2          0          0          0          0          1  \n",
       "3          0          0          0          0          1  \n",
       "4          0          0          0          0          1  \n",
       "\n",
       "[5 rows x 56 columns]"
      ]
     },
     "execution_count": 42,
     "metadata": {},
     "output_type": "execute_result"
    }
   ],
   "source": [
    "test_data = data[-21*24:]\r\n",
    "train_data = data[:-21*24]\r\n",
    "print('train data: ', len( train_data ), ', test data: ', len( test_data ) )\r\n",
    "\r\n",
    "target_fields = [ 'cnt', 'casual', 'registered' ]\r\n",
    "features, targets = train_data.drop( target_fields, axis=1), train_data[target_fields]\r\n",
    "test_features, test_targets = test_data.drop(target_fields, axis=1), test_data[target_fields]\r\n",
    "\r\n",
    "X = features.values\r\n",
    "Y = targets['cnt'].values \r\n",
    "Y = Y.astype(float)\r\n",
    "\r\n",
    "Y = np.reshape(Y, [len(Y),1])\r\n",
    "losses = []\r\n",
    "\r\n",
    "features.head()\r\n"
   ]
  },
  {
   "cell_type": "markdown",
   "metadata": {
    "collapsed": false
   },
   "source": [
    "<a href=\"#index\">回到目录</a>"
   ]
  },
  {
   "cell_type": "markdown",
   "metadata": {
    "collapsed": false
   },
   "source": [
    "<h2 ><a id = \"train\">三、构建神经网络模型</a></h2>"
   ]
  },
  {
   "cell_type": "markdown",
   "metadata": {
    "collapsed": false
   },
   "source": [
    "### 3.1. 手动编写用 Tensor 运算的人工神经网络"
   ]
  },
  {
   "cell_type": "markdown",
   "metadata": {
    "collapsed": false
   },
   "source": [
    "在数据处理进行完毕后，下面将构建新的人工神经网络。\n",
    "\n",
    "在这里，我们构建的网络有三层：输入、隐含和输出层。\n",
    "\n",
    "每个层的尺寸（神经元个数）分别是：56、10 和 1。\n",
    "\n",
    "其中，输入输出层的神经元个数分别由数据决定，\n",
    "\n",
    "隐含层神经元个数则是根据我们对数据复杂度的预估决定的。\n",
    "\n",
    "通常，数据越复杂、数据量越大，我们就需要越多的神经元。但是神经元过多很容易造成过拟合。"
   ]
  },
  {
   "cell_type": "markdown",
   "metadata": {
    "collapsed": false
   },
   "source": [
    "\n",
    "![](https://ai-studio-static-online.cdn.bcebos.com/b8a81b37664f4fdc92ceb0f1c84f395fb76a32f2f92a4a9197bbcda77cf39aff)\n"
   ]
  },
  {
   "cell_type": "markdown",
   "metadata": {
    "collapsed": false
   },
   "source": [
    "下面先用手动的麻烦的方式搭建一个神经网络，大家看不懂也不用担心，我们在下一步会使用PyTorch 提供的更方便的方式搭建一个神经网络。"
   ]
  },
  {
   "cell_type": "markdown",
   "metadata": {
    "collapsed": false
   },
   "source": [
    "**▶ 示例代码：**\n",
    "\n",
    "```python\n",
    "# 定义神经网络架构，features.shape[1]个输入层单元，10个隐含层，1个输出层\n",
    "input_size = features.shape[1] #输入层单元个数\n",
    "hidden_size = 10 #隐含层单元个数\n",
    "output_size = 1 #输出层单元个数\n",
    "batch_size = 128 #每隔batch的记录数\n",
    "weights1 = Variable(torch.randn([input_size, hidden_size]), requires_grad = True) #第一到二层权重\n",
    "biases1 = Variable(torch.randn([hidden_size]), requires_grad = True) #隐含层偏置\n",
    "weights2 = Variable(torch.randn([hidden_size, output_size]), requires_grad = True) #隐含层到输出层权重\n",
    "def neu(x):\n",
    "    #计算隐含层输出\n",
    "    #x为batch_size * input_size的矩阵，weights1为input_size*hidden_size矩阵，\n",
    "    #biases为hidden_size向量，输出为batch_size * hidden_size矩阵    \n",
    "    hidden = x.mm(weights1) + biases1.expand(x.size()[0], hidden_size)\n",
    "    hidden = torch.sigmoid(hidden)\n",
    "    \n",
    "    #输入batch_size * hidden_size矩阵，mm上weights2, hidden_size*output_size矩阵，\n",
    "    #输出batch_size*output_size矩阵\n",
    "    output = hidden.mm(weights2)\n",
    "    return output\n",
    "def cost(x, y):\n",
    "    # 计算损失函数\n",
    "    error = torch.mean((x - y)**2)\n",
    "    return error\n",
    "def zero_grad():\n",
    "    # 清空每个参数的梯度信息\n",
    "    if weights1.grad is not None and biases1.grad is not None and weights2.grad is not None:\n",
    "        weights1.grad.data.zero_()\n",
    "        weights2.grad.data.zero_()\n",
    "        biases1.grad.data.zero_()\n",
    "def optimizer_step(learning_rate):\n",
    "    # 梯度下降算法\n",
    "    weights1.data.add_(- learning_rate * weights1.grad.data)\n",
    "    weights2.data.add_(- learning_rate * weights2.grad.data)\n",
    "    biases1.data.add_(- learning_rate * biases1.grad.data)\n",
    "```\n",
    "\n",
    "**▶ 动手练习：**"
   ]
  },
  {
   "cell_type": "code",
   "execution_count": 43,
   "metadata": {
    "collapsed": false
   },
   "outputs": [],
   "source": [
    "input_size = features.shape[1]\r\n",
    "hidden_size = 10\r\n",
    "output_size = 1\r\n",
    "batch_size = 128\r\n",
    "weights1 = torch.randn([input_size, hidden_size], requires_grad = True )\r\n",
    "biases1 = torch.randn([hidden_size], requires_grad = True )\r\n",
    "weights2 = torch.randn([hidden_size, output_size], requires_grad = True)\r\n",
    "\r\n",
    "def neu(x):\r\n",
    "    hidden = x.mm(weights1) + biases1.expand( x.size()[0], hidden_size )\r\n",
    "    hidden = torch.sigmoid( hidden )\r\n",
    "    output = hidden.mm(weights2)\r\n",
    "    return output\r\n",
    "\r\n",
    "def cose(x,y):\r\n",
    "    error = torch.mean((x-y)**2)\r\n",
    "    return error\r\n",
    "\r\n",
    "def zero_grad():\r\n",
    "    if weights1.grad is not None and biases1 is not None and weights2.grad is not None :\r\n",
    "        weights1.grad.data.zero_()\r\n",
    "        weights2.grad.data.zero_()\r\n",
    "        biases1.grad.data.zero_()\r\n",
    "\r\n",
    "def optimizer_step( learning_rate ):\r\n",
    "    weights1.data.add_( - learning_rate * weights1.grad.data )\r\n",
    "    weights2.data.add_( - learning_rate * weights2.grad.data )\r\n",
    "    biases1.data.add_( - learning_rate * biases1 )"
   ]
  },
  {
   "cell_type": "markdown",
   "metadata": {
    "collapsed": false
   },
   "source": [
    "### 3.2. 调用PyTorch现成的函数，构建序列化的神经网络"
   ]
  },
  {
   "cell_type": "markdown",
   "metadata": {
    "collapsed": false
   },
   "source": [
    "除了前面讲过的用手工实现神经网络的张量计算完成神经网络搭建以外，\n",
    "\n",
    "PyTorch 还实现了自动调用现成的函数来完成同样的操作，这样的代码更加简洁。"
   ]
  },
  {
   "cell_type": "markdown",
   "metadata": {
    "collapsed": false
   },
   "source": [
    "**▶ 示例代码：**\n",
    "\n",
    "```python\n",
    "# 定义神经网络架构，features.shape[1]个输入层单元，10个隐含层，1个输出层\n",
    "input_size = features.shape[1]\n",
    "hidden_size = 10\n",
    "output_size = 1\n",
    "batch_size = 128\n",
    "neu = torch.nn.Sequential(\n",
    "    torch.nn.Linear(input_size, hidden_size),\n",
    "    torch.nn.Sigmoid(),\n",
    "    torch.nn.Linear(hidden_size, output_size),\n",
    ")\n",
    "cost = torch.nn.MSELoss()\n",
    "optimizer = torch.optim.SGD(neu.parameters(), lr = 0.01)\n",
    "```\n",
    "\n",
    "**▶ 动手练习：**"
   ]
  },
  {
   "cell_type": "code",
   "execution_count": 44,
   "metadata": {
    "collapsed": false
   },
   "outputs": [],
   "source": [
    "input_size = features.shape[1]\r\n",
    "hidden_size = 10\r\n",
    "output_size = 1\r\n",
    "batch_size = 128\r\n",
    "neu = torch.nn.Sequential(\r\n",
    "    torch.nn.Linear(input_size, hidden_size),\r\n",
    "    torch.nn.Sigmoid(),\r\n",
    "    torch.nn.Linear(hidden_size,output_size)\r\n",
    ")\r\n",
    "cost = torch.nn.MSELoss()\r\n",
    "optimizer = torch.optim.SGD( neu.parameters(), lr=0.01)"
   ]
  },
  {
   "cell_type": "markdown",
   "metadata": {
    "collapsed": false
   },
   "source": [
    "在这段代码里，我们可以调用 `torch.nn.Sequential` 来构造的神经网络，并将构造好的神经网络存放到了 neu 中。\n",
    "\n",
    "`torch.nn.Sequential` 这个函数的作用是将一系列的运算模块按顺序搭建成一个多层的神经网络。\n",
    "\n",
    "在这个例子中，这些模块包括从输入到隐含层的线性映射 `Linear(input_size, hidden_size)`，\n",
    "\n",
    "隐含层的非线性 Sigmoid 函数 `torch.nn.Sigmoid()`，以及从隐含到输出的线性映射`torch.nn.Linear(hidden_size, output_size)`。\n",
    "\n",
    "值得注意的是，Sequential 里面的层次并不与神经网络的层次严格对应，而是指多步的运算，它与动态计算图的层次相对应。"
   ]
  },
  {
   "cell_type": "markdown",
   "metadata": {
    "collapsed": false
   },
   "source": [
    "我们也可以使用 PyTorch 自带的损失函数：\n",
    "\n",
    "```Python\n",
    "cost = torch.nn.MSELoss()\n",
    "```\n",
    "\n",
    "这里 `torch.nn.MSELoss` 是 PyTorch 自带的一个封装好的计算均方误差的损失函数，它是一个函数指针，赋予了变量 `cost`。在计算的时候我们只需要调用 `cost(x,y)` 就可以计算预测向量 x 和目标向量 y 之间的均方误差。\n",
    "\n",
    "除此之外，PyTorch 也自带了优化器来自动实现优化算法：\n",
    "\n",
    "```\n",
    "optimizer = torch.optim.SGD(neu.parameters(), lr = 0.01)\n",
    "```\n",
    "\n",
    "这里 `torch.optim.SGD` 调用了 PyTorch 自带的随机梯度下降算法（Stochastic Gradient Descent，SGD）作为优化器。\n",
    "\n",
    "在初始化 optimizer 的时候，我们需要将待优化的所有参数（在本例中就是传入的参数包括神经网络neu包含的所有权重和偏置（即`neu.parameters()`），以及执行梯度下降算法的学习率`lr=0.01`。在一切的材料都准备好之后，就可以实施训练了。"
   ]
  },
  {
   "cell_type": "markdown",
   "metadata": {
    "collapsed": false
   },
   "source": [
    "### 3.3 数据的分批次处理"
   ]
  },
  {
   "cell_type": "markdown",
   "metadata": {
    "collapsed": false
   },
   "source": [
    "然而，在进行训练循环的时候，我们还会遇到一个问题。\n",
    "\n",
    "如果在每一个训练周期都是将所有的数据一股脑儿地喂给神经网络。\n",
    "\n",
    "这在数据量不大的情况下没有任何问题。\n",
    "\n",
    "但是，我们现在的数据量是 16875 条，在这么大数据量的情况下如果还是在每个训练周期处理所有数据，那么可能会出现，运算速度过慢，迭代可能不收敛的问题。\n",
    "\n",
    "人们通常采用的解决方法是批处理（batch processing）的模式，也就是将所有的数据记录划分成一个批次大小（batch size）的小数据集，然后每个训练周期喂给神经网络一批数据。\n",
    "\n",
    "如下图所示。通常，批的大小依问题的复杂度和数据量的大小而定，在我们这个试验中，我们设定 `batch_size = 128`。"
   ]
  },
  {
   "cell_type": "markdown",
   "metadata": {
    "collapsed": false
   },
   "source": [
    "![](https://ai-studio-static-online.cdn.bcebos.com/a1729518ce934d8c9fcb2db92c80f40eddfde63083a14128be4a7b76f341696e)\n"
   ]
  },
  {
   "cell_type": "markdown",
   "metadata": {
    "collapsed": false
   },
   "source": [
    "**▶ 示例代码：**\n",
    "\n",
    "```python\n",
    "# 神经网络训练循环\n",
    "losses = []\n",
    "for i in range(1000):\n",
    "    # 每128个样本点被划分为一个撮，在循环的时候一批一批地读取\n",
    "    batch_loss = []\n",
    "    # start和end分别是提取一个batch数据的起始和终止下标\n",
    "    for start in range(0, len(X), batch_size):\n",
    "        end = start + batch_size if start + batch_size < len(X) else len(X)\n",
    "        xx = Variable(torch.FloatTensor(X[start:end]))\n",
    "        yy = Variable(torch.FloatTensor(Y[start:end]))\n",
    "        predict = neu(xx)\n",
    "        loss = cost(predict, yy)\n",
    "        optimizer.zero_grad()\n",
    "        loss.backward()\n",
    "        optimizer.step()\n",
    "        batch_loss.append(loss.data.numpy())\n",
    "    \n",
    "    # 每隔100步输出一下损失值（loss）\n",
    "    if i % 100==0:\n",
    "        losses.append(np.mean(batch_loss))\n",
    "        print(i, np.mean(batch_loss))\n",
    "```\n",
    "\n",
    "**▶ 动手练习：**"
   ]
  },
  {
   "cell_type": "code",
   "execution_count": 45,
   "metadata": {
    "collapsed": false
   },
   "outputs": [
    {
     "name": "stdout",
     "output_type": "stream",
     "text": [
      "0 0.899066\n",
      "100 0.26695535\n",
      "200 0.22908095\n",
      "300 0.16426118\n",
      "400 0.10925218\n",
      "500 0.08583304\n",
      "600 0.07649767\n",
      "700 0.07082488\n",
      "800 0.067060135\n",
      "900 0.06444501\n"
     ]
    }
   ],
   "source": [
    "losses = []\r\n",
    "for i in range(1000):\r\n",
    "    batch_loss = []\r\n",
    "    for start in range( 0, len(X), batch_size):\r\n",
    "        end = start + batch_size if start+batch_size < len(X) else len(X)\r\n",
    "        xx = torch.FloatTensor(X[start:end])\r\n",
    "        yy = torch.FloatTensor(Y[start:end])\r\n",
    "        predict = neu(xx)\r\n",
    "        loss = cost(predict, yy)\r\n",
    "        optimizer.zero_grad()\r\n",
    "        loss.backward()\r\n",
    "        optimizer.step()\r\n",
    "        batch_loss.append(loss.data.numpy())\r\n",
    "\r\n",
    "    if i%100 == 0:\r\n",
    "        losses.append(np.mean(batch_loss))\r\n",
    "        print(i, np.mean(batch_loss))"
   ]
  },
  {
   "cell_type": "code",
   "execution_count": 46,
   "metadata": {
    "collapsed": false
   },
   "outputs": [
    {
     "name": "stdout",
     "output_type": "stream",
     "text": [
      "Looking in indexes: https://mirror.baidu.com/pypi/simple/\n",
      "Requirement already satisfied: torchviz in /opt/conda/envs/python35-paddle120-env/lib/python3.7/site-packages (0.0.2)\n",
      "Requirement already satisfied: graphviz in /opt/conda/envs/python35-paddle120-env/lib/python3.7/site-packages (from torchviz) (0.13)\n",
      "Requirement already satisfied: torch in /opt/conda/envs/python35-paddle120-env/lib/python3.7/site-packages (from torchviz) (1.4.0)\n",
      "Note: you may need to restart the kernel to use updated packages.\n"
     ]
    }
   ],
   "source": [
    "%pip install torchviz"
   ]
  },
  {
   "cell_type": "code",
   "execution_count": 47,
   "metadata": {
    "collapsed": false
   },
   "outputs": [
    {
     "data": {
      "image/svg+xml": [
       "<?xml version=\"1.0\" encoding=\"UTF-8\" standalone=\"no\"?>\n",
       "<!DOCTYPE svg PUBLIC \"-//W3C//DTD SVG 1.1//EN\"\n",
       " \"http://www.w3.org/Graphics/SVG/1.1/DTD/svg11.dtd\">\n",
       "<!-- Generated by graphviz version 2.38.0 (20140413.2041)\n",
       " -->\n",
       "<!-- Title: %3 Pages: 1 -->\n",
       "<svg width=\"344pt\" height=\"472pt\"\n",
       " viewBox=\"0.00 0.00 344.00 472.00\" xmlns=\"http://www.w3.org/2000/svg\" xmlns:xlink=\"http://www.w3.org/1999/xlink\">\n",
       "<g id=\"graph0\" class=\"graph\" transform=\"scale(1 1) rotate(0) translate(4 468)\">\n",
       "<title>%3</title>\n",
       "<polygon fill=\"white\" stroke=\"none\" points=\"-4,4 -4,-468 340,-468 340,4 -4,4\"/>\n",
       "<!-- 139628420869808 -->\n",
       "<g id=\"node1\" class=\"node\"><title>139628420869808</title>\n",
       "<polygon fill=\"#caff70\" stroke=\"black\" points=\"199.5,-31 145.5,-31 145.5,-0 199.5,-0 199.5,-31\"/>\n",
       "<text text-anchor=\"middle\" x=\"172.5\" y=\"-7\" font-family=\"monospace\" font-size=\"10.00\"> ()</text>\n",
       "</g>\n",
       "<!-- 139628420306256 -->\n",
       "<g id=\"node2\" class=\"node\"><title>139628420306256</title>\n",
       "<polygon fill=\"lightgrey\" stroke=\"black\" points=\"226,-86 119,-86 119,-67 226,-67 226,-86\"/>\n",
       "<text text-anchor=\"middle\" x=\"172.5\" y=\"-74\" font-family=\"monospace\" font-size=\"10.00\">MseLossBackward</text>\n",
       "</g>\n",
       "<!-- 139628420306256&#45;&gt;139628420869808 -->\n",
       "<g id=\"edge14\" class=\"edge\"><title>139628420306256&#45;&gt;139628420869808</title>\n",
       "<path fill=\"none\" stroke=\"black\" d=\"M172.5,-66.7943C172.5,-60.0669 172.5,-50.404 172.5,-41.3425\"/>\n",
       "<polygon fill=\"black\" stroke=\"black\" points=\"176,-41.1932 172.5,-31.1933 169,-41.1933 176,-41.1932\"/>\n",
       "</g>\n",
       "<!-- 139628420306064 -->\n",
       "<g id=\"node3\" class=\"node\"><title>139628420306064</title>\n",
       "<polygon fill=\"lightgrey\" stroke=\"black\" points=\"220,-141 125,-141 125,-122 220,-122 220,-141\"/>\n",
       "<text text-anchor=\"middle\" x=\"172.5\" y=\"-129\" font-family=\"monospace\" font-size=\"10.00\">AddmmBackward</text>\n",
       "</g>\n",
       "<!-- 139628420306064&#45;&gt;139628420306256 -->\n",
       "<g id=\"edge1\" class=\"edge\"><title>139628420306064&#45;&gt;139628420306256</title>\n",
       "<path fill=\"none\" stroke=\"black\" d=\"M172.5,-121.748C172.5,-114.802 172.5,-104.845 172.5,-96.1349\"/>\n",
       "<polygon fill=\"black\" stroke=\"black\" points=\"176,-96.089 172.5,-86.089 169,-96.0891 176,-96.089\"/>\n",
       "</g>\n",
       "<!-- 139628703702864 -->\n",
       "<g id=\"node4\" class=\"node\"><title>139628703702864</title>\n",
       "<polygon fill=\"lightgrey\" stroke=\"black\" points=\"101,-196 0,-196 0,-177 101,-177 101,-196\"/>\n",
       "<text text-anchor=\"middle\" x=\"50.5\" y=\"-184\" font-family=\"monospace\" font-size=\"10.00\">AccumulateGrad</text>\n",
       "</g>\n",
       "<!-- 139628703702864&#45;&gt;139628420306064 -->\n",
       "<g id=\"edge2\" class=\"edge\"><title>139628703702864&#45;&gt;139628420306064</title>\n",
       "<path fill=\"none\" stroke=\"black\" d=\"M70.1014,-176.985C89.8158,-168.42 120.453,-155.11 143.083,-145.28\"/>\n",
       "<polygon fill=\"black\" stroke=\"black\" points=\"144.765,-148.365 152.542,-141.17 141.975,-141.945 144.765,-148.365\"/>\n",
       "</g>\n",
       "<!-- 139628704950304 -->\n",
       "<g id=\"node5\" class=\"node\"><title>139628704950304</title>\n",
       "<polygon fill=\"lightblue\" stroke=\"black\" points=\"77.5,-263 23.5,-263 23.5,-232 77.5,-232 77.5,-263\"/>\n",
       "<text text-anchor=\"middle\" x=\"50.5\" y=\"-239\" font-family=\"monospace\" font-size=\"10.00\"> (1)</text>\n",
       "</g>\n",
       "<!-- 139628704950304&#45;&gt;139628703702864 -->\n",
       "<g id=\"edge3\" class=\"edge\"><title>139628704950304&#45;&gt;139628703702864</title>\n",
       "<path fill=\"none\" stroke=\"black\" d=\"M50.5,-231.916C50.5,-224.221 50.5,-214.688 50.5,-206.43\"/>\n",
       "<polygon fill=\"black\" stroke=\"black\" points=\"54.0001,-206.249 50.5,-196.249 47.0001,-206.249 54.0001,-206.249\"/>\n",
       "</g>\n",
       "<!-- 139628420308112 -->\n",
       "<g id=\"node6\" class=\"node\"><title>139628420308112</title>\n",
       "<polygon fill=\"lightgrey\" stroke=\"black\" points=\"226,-196 119,-196 119,-177 226,-177 226,-196\"/>\n",
       "<text text-anchor=\"middle\" x=\"172.5\" y=\"-184\" font-family=\"monospace\" font-size=\"10.00\">SigmoidBackward</text>\n",
       "</g>\n",
       "<!-- 139628420308112&#45;&gt;139628420306064 -->\n",
       "<g id=\"edge4\" class=\"edge\"><title>139628420308112&#45;&gt;139628420306064</title>\n",
       "<path fill=\"none\" stroke=\"black\" d=\"M172.5,-176.748C172.5,-169.802 172.5,-159.845 172.5,-151.135\"/>\n",
       "<polygon fill=\"black\" stroke=\"black\" points=\"176,-151.089 172.5,-141.089 169,-151.089 176,-151.089\"/>\n",
       "</g>\n",
       "<!-- 139628706518032 -->\n",
       "<g id=\"node7\" class=\"node\"><title>139628706518032</title>\n",
       "<polygon fill=\"lightgrey\" stroke=\"black\" points=\"217,-257 122,-257 122,-238 217,-238 217,-257\"/>\n",
       "<text text-anchor=\"middle\" x=\"169.5\" y=\"-245\" font-family=\"monospace\" font-size=\"10.00\">AddmmBackward</text>\n",
       "</g>\n",
       "<!-- 139628706518032&#45;&gt;139628420308112 -->\n",
       "<g id=\"edge5\" class=\"edge\"><title>139628706518032&#45;&gt;139628420308112</title>\n",
       "<path fill=\"none\" stroke=\"black\" d=\"M169.943,-237.794C170.359,-229.602 170.997,-217.058 171.532,-206.547\"/>\n",
       "<polygon fill=\"black\" stroke=\"black\" points=\"175.043,-206.406 172.056,-196.241 168.052,-206.051 175.043,-206.406\"/>\n",
       "</g>\n",
       "<!-- 139628420652368 -->\n",
       "<g id=\"node8\" class=\"node\"><title>139628420652368</title>\n",
       "<polygon fill=\"lightgrey\" stroke=\"black\" points=\"131,-324 30,-324 30,-305 131,-305 131,-324\"/>\n",
       "<text text-anchor=\"middle\" x=\"80.5\" y=\"-312\" font-family=\"monospace\" font-size=\"10.00\">AccumulateGrad</text>\n",
       "</g>\n",
       "<!-- 139628420652368&#45;&gt;139628706518032 -->\n",
       "<g id=\"edge6\" class=\"edge\"><title>139628420652368&#45;&gt;139628706518032</title>\n",
       "<path fill=\"none\" stroke=\"black\" d=\"M92.5029,-304.734C107.049,-294.111 131.78,-276.049 149.284,-263.264\"/>\n",
       "<polygon fill=\"black\" stroke=\"black\" points=\"151.676,-265.852 157.687,-257.127 147.547,-260.199 151.676,-265.852\"/>\n",
       "</g>\n",
       "<!-- 139628421202080 -->\n",
       "<g id=\"node9\" class=\"node\"><title>139628421202080</title>\n",
       "<polygon fill=\"lightblue\" stroke=\"black\" points=\"107.5,-397 53.5,-397 53.5,-366 107.5,-366 107.5,-397\"/>\n",
       "<text text-anchor=\"middle\" x=\"80.5\" y=\"-373\" font-family=\"monospace\" font-size=\"10.00\"> (10)</text>\n",
       "</g>\n",
       "<!-- 139628421202080&#45;&gt;139628420652368 -->\n",
       "<g id=\"edge7\" class=\"edge\"><title>139628421202080&#45;&gt;139628420652368</title>\n",
       "<path fill=\"none\" stroke=\"black\" d=\"M80.5,-365.75C80.5,-356.389 80.5,-344.192 80.5,-334.16\"/>\n",
       "<polygon fill=\"black\" stroke=\"black\" points=\"84.0001,-334.018 80.5,-324.018 77.0001,-334.019 84.0001,-334.018\"/>\n",
       "</g>\n",
       "<!-- 139628420258320 -->\n",
       "<g id=\"node10\" class=\"node\"><title>139628420258320</title>\n",
       "<polygon fill=\"lightgrey\" stroke=\"black\" points=\"220,-324 149,-324 149,-305 220,-305 220,-324\"/>\n",
       "<text text-anchor=\"middle\" x=\"184.5\" y=\"-312\" font-family=\"monospace\" font-size=\"10.00\">TBackward</text>\n",
       "</g>\n",
       "<!-- 139628420258320&#45;&gt;139628706518032 -->\n",
       "<g id=\"edge8\" class=\"edge\"><title>139628420258320&#45;&gt;139628706518032</title>\n",
       "<path fill=\"none\" stroke=\"black\" d=\"M182.477,-304.734C180.25,-295.085 176.608,-279.3 173.748,-266.906\"/>\n",
       "<polygon fill=\"black\" stroke=\"black\" points=\"177.15,-266.084 171.491,-257.127 170.329,-267.658 177.15,-266.084\"/>\n",
       "</g>\n",
       "<!-- 139628419936400 -->\n",
       "<g id=\"node11\" class=\"node\"><title>139628419936400</title>\n",
       "<polygon fill=\"lightgrey\" stroke=\"black\" points=\"235,-391 134,-391 134,-372 235,-372 235,-391\"/>\n",
       "<text text-anchor=\"middle\" x=\"184.5\" y=\"-379\" font-family=\"monospace\" font-size=\"10.00\">AccumulateGrad</text>\n",
       "</g>\n",
       "<!-- 139628419936400&#45;&gt;139628420258320 -->\n",
       "<g id=\"edge9\" class=\"edge\"><title>139628419936400&#45;&gt;139628420258320</title>\n",
       "<path fill=\"none\" stroke=\"black\" d=\"M184.5,-371.734C184.5,-362.183 184.5,-346.618 184.5,-334.283\"/>\n",
       "<polygon fill=\"black\" stroke=\"black\" points=\"188,-334.127 184.5,-324.127 181,-334.127 188,-334.127\"/>\n",
       "</g>\n",
       "<!-- 139628421200784 -->\n",
       "<g id=\"node12\" class=\"node\"><title>139628421200784</title>\n",
       "<polygon fill=\"lightblue\" stroke=\"black\" points=\"220,-464 149,-464 149,-433 220,-433 220,-464\"/>\n",
       "<text text-anchor=\"middle\" x=\"184.5\" y=\"-440\" font-family=\"monospace\" font-size=\"10.00\"> (10, 56)</text>\n",
       "</g>\n",
       "<!-- 139628421200784&#45;&gt;139628419936400 -->\n",
       "<g id=\"edge10\" class=\"edge\"><title>139628421200784&#45;&gt;139628419936400</title>\n",
       "<path fill=\"none\" stroke=\"black\" d=\"M184.5,-432.75C184.5,-423.389 184.5,-411.192 184.5,-401.16\"/>\n",
       "<polygon fill=\"black\" stroke=\"black\" points=\"188,-401.018 184.5,-391.018 181,-401.019 188,-401.018\"/>\n",
       "</g>\n",
       "<!-- 139628420308624 -->\n",
       "<g id=\"node13\" class=\"node\"><title>139628420308624</title>\n",
       "<polygon fill=\"lightgrey\" stroke=\"black\" points=\"319,-196 248,-196 248,-177 319,-177 319,-196\"/>\n",
       "<text text-anchor=\"middle\" x=\"283.5\" y=\"-184\" font-family=\"monospace\" font-size=\"10.00\">TBackward</text>\n",
       "</g>\n",
       "<!-- 139628420308624&#45;&gt;139628420306064 -->\n",
       "<g id=\"edge11\" class=\"edge\"><title>139628420308624&#45;&gt;139628420306064</title>\n",
       "<path fill=\"none\" stroke=\"black\" d=\"M265.666,-176.985C247.89,-168.497 220.353,-155.349 199.82,-145.545\"/>\n",
       "<polygon fill=\"black\" stroke=\"black\" points=\"201.191,-142.321 190.659,-141.17 198.175,-148.638 201.191,-142.321\"/>\n",
       "</g>\n",
       "<!-- 139628420305360 -->\n",
       "<g id=\"node14\" class=\"node\"><title>139628420305360</title>\n",
       "<polygon fill=\"lightgrey\" stroke=\"black\" points=\"336,-257 235,-257 235,-238 336,-238 336,-257\"/>\n",
       "<text text-anchor=\"middle\" x=\"285.5\" y=\"-245\" font-family=\"monospace\" font-size=\"10.00\">AccumulateGrad</text>\n",
       "</g>\n",
       "<!-- 139628420305360&#45;&gt;139628420308624 -->\n",
       "<g id=\"edge12\" class=\"edge\"><title>139628420305360&#45;&gt;139628420308624</title>\n",
       "<path fill=\"none\" stroke=\"black\" d=\"M285.205,-237.794C284.927,-229.602 284.502,-217.058 284.146,-206.547\"/>\n",
       "<polygon fill=\"black\" stroke=\"black\" points=\"287.633,-206.117 283.796,-196.241 280.637,-206.354 287.633,-206.117\"/>\n",
       "</g>\n",
       "<!-- 139628704951184 -->\n",
       "<g id=\"node15\" class=\"node\"><title>139628704951184</title>\n",
       "<polygon fill=\"lightblue\" stroke=\"black\" points=\"318,-330 253,-330 253,-299 318,-299 318,-330\"/>\n",
       "<text text-anchor=\"middle\" x=\"285.5\" y=\"-306\" font-family=\"monospace\" font-size=\"10.00\"> (1, 10)</text>\n",
       "</g>\n",
       "<!-- 139628704951184&#45;&gt;139628420305360 -->\n",
       "<g id=\"edge13\" class=\"edge\"><title>139628704951184&#45;&gt;139628420305360</title>\n",
       "<path fill=\"none\" stroke=\"black\" d=\"M285.5,-298.75C285.5,-289.389 285.5,-277.192 285.5,-267.16\"/>\n",
       "<polygon fill=\"black\" stroke=\"black\" points=\"289,-267.018 285.5,-257.018 282,-267.019 289,-267.018\"/>\n",
       "</g>\n",
       "</g>\n",
       "</svg>\n"
      ],
      "text/plain": [
       "<graphviz.dot.Digraph at 0x7efdc6649450>"
      ]
     },
     "execution_count": 47,
     "metadata": {},
     "output_type": "execute_result"
    }
   ],
   "source": [
    "from torchviz import make_dot\r\n",
    "\r\n",
    "make_dot(loss)"
   ]
  },
  {
   "cell_type": "markdown",
   "metadata": {
    "collapsed": false
   },
   "source": [
    "下面打印输出损失值。"
   ]
  },
  {
   "cell_type": "markdown",
   "metadata": {
    "collapsed": false
   },
   "source": [
    "**▶ 示例代码：**\n",
    "\n",
    "```python\n",
    "# 打印输出损失值\n",
    "fig = plt.figure(figsize=(10, 7))\n",
    "plt.plot(np.arange(len(losses))*100,losses, 'o-')\n",
    "plt.xlabel('epoch')\n",
    "plt.ylabel('MSE')\n",
    "```\n",
    "\n",
    "**▶ 动手练习：**"
   ]
  },
  {
   "cell_type": "code",
   "execution_count": 48,
   "metadata": {
    "collapsed": false
   },
   "outputs": [
    {
     "data": {
      "text/plain": [
       "Text(0, 0.5, 'MSE')"
      ]
     },
     "execution_count": 48,
     "metadata": {},
     "output_type": "execute_result"
    },
    {
     "data": {
      "image/png": "[encoded data removed]",
      "text/plain": [
       "<Figure size 720x504 with 1 Axes>"
      ]
     },
     "metadata": {},
     "output_type": "display_data"
    }
   ],
   "source": [
    "fig = plt.figure(figsize=(10,7))\r\n",
    "plt.plot(np.arange(len(losses))*100, losses, 'o-')\r\n",
    "plt.xlabel('epoch')\r\n",
    "plt.ylabel('MSE')"
   ]
  },
  {
   "cell_type": "markdown",
   "metadata": {
    "collapsed": false
   },
   "source": [
    "在上段代码绘制出的图中，横坐标表示训练周期，纵坐标表示平均误差。\n",
    "\n",
    "可以看到，平均误差快速地随训练周期而下降"
   ]
  },
  {
   "cell_type": "markdown",
   "metadata": {
    "collapsed": false
   },
   "source": [
    "<a href=\"#index\">回到目录</a>"
   ]
  },
  {
   "cell_type": "markdown",
   "metadata": {
    "collapsed": false
   },
   "source": [
    "<h2 ><a id = \"load\">四、测试网络</a></h2>"
   ]
  },
  {
   "cell_type": "markdown",
   "metadata": {
    "collapsed": false
   },
   "source": [
    "### 4.1 使用测试数据集测试网络"
   ]
  },
  {
   "cell_type": "markdown",
   "metadata": {
    "collapsed": false
   },
   "source": [
    "接下来，我们便可以用训练好的神经网络在测试集上进行预测，并且将后21天的预测数据与真实数据画在一起做比较。"
   ]
  },
  {
   "cell_type": "markdown",
   "metadata": {
    "collapsed": false
   },
   "source": [
    "**▶ 示例代码：**\n",
    "\n",
    "```python\n",
    "# 用训练好的神经网络在测试集上进行预测\n",
    "targets = test_targets['cnt'] #读取测试集的cnt数值\n",
    "targets = targets.values.reshape([len(targets),1]) #将数据转换成合适的tensor形式\n",
    "targets = targets.astype(float) #保证数据为实数\n",
    "\n",
    "# 将属性和预测变量包裹在Variable型变量中\n",
    "x = Variable(torch.FloatTensor(test_features.values))\n",
    "y = Variable(torch.FloatTensor(targets))\n",
    "\n",
    "# 用神经网络进行预测\n",
    "predict = neu(x)\n",
    "predict = predict.data.numpy()\n",
    "\n",
    "\n",
    "# 将后21天的预测数据与真实数据画在一起并比较\n",
    "# 横坐标轴是不同的日期，纵坐标轴是预测或者真实数据的值\n",
    "fig, ax = plt.subplots(figsize = (10, 7))\n",
    "\n",
    "mean, std = scaled_features['cnt']\n",
    "ax.plot(predict * std + mean, label='Prediction', linestyle = '--')\n",
    "ax.plot(targets * std + mean, label='Data', linestyle = '-')\n",
    "ax.legend()\n",
    "ax.set_xlabel('Date-time')\n",
    "ax.set_ylabel('Counts')\n",
    "# 对横坐标轴进行标注\n",
    "dates = pd.to_datetime(rides.loc[test_data.index]['dteday'])\n",
    "dates = dates.apply(lambda d: d.strftime('%b %d'))\n",
    "ax.set_xticks(np.arange(len(dates))[12::24])\n",
    "_ = ax.set_xticklabels(dates[12::24], rotation=45)\n",
    "```\n",
    "\n",
    "**▶ 动手练习：**"
   ]
  },
  {
   "cell_type": "code",
   "execution_count": 55,
   "metadata": {
    "collapsed": false
   },
   "outputs": [
    {
     "data": {
      "image/png": "[encoded data removed]",
      "text/plain": [
       "<Figure size 720x504 with 1 Axes>"
      ]
     },
     "metadata": {},
     "output_type": "display_data"
    }
   ],
   "source": [
    "targets = test_targets['cnt']\r\n",
    "targets = targets.values.reshape([len(targets),1])\r\n",
    "targets = targets.astype(float)\r\n",
    "\r\n",
    "x = torch.FloatTensor(test_features.values)\r\n",
    "y = torch.FloatTensor(targets)\r\n",
    "\r\n",
    "predict = neu(x)\r\n",
    "predict = predict.data.numpy()\r\n",
    "\r\n",
    "fig,ax = plt.subplots(figsize=(10,7))\r\n",
    "\r\n",
    "mean, std = scaled_features['cnt']\r\n",
    "ax.plot( predict * std + mean, label = 'Prediction', linestyle = '--' )\r\n",
    "ax.plot( targets * std + mean,  label = 'Data', linestyle = '-' )\r\n",
    "ax.legend()\r\n",
    "ax.set_xlabel('Date-Time')\r\n",
    "ax.set_ylabel('Counts')\r\n",
    "\r\n",
    "dates = pd.to_datetime( rides['dteday'].loc[test_data.index])\r\n",
    "dates = dates.apply( lambda d: d.strftime('%b %d'))\r\n",
    "\r\n",
    "# np.arange( len(dates) )[12::24]\r\n",
    "ax.set_xticks( np.arange( len(dates) )[12::24] )\r\n",
    "_ = ax.set_xticklabels( dates[12::24], rotation=45)\r\n",
    "\r\n",
    "\r\n",
    "\r\n",
    "\r\n"
   ]
  },
  {
   "cell_type": "markdown",
   "metadata": {
    "collapsed": false
   },
   "source": [
    "### 4.2 预测结果分析"
   ]
  },
  {
   "cell_type": "markdown",
   "metadata": {
    "collapsed": false
   },
   "source": [
    "在上一步的代码绘制的图中，横坐标是不同的日期，纵坐标是预测或真实数据的值。\n",
    "\n",
    "通过数据的可视化，我们可以观察到两个曲线基本是吻合的，但是在 12 月 25 日附近几天实际值和预测值偏差较大。为什么这段时间表现这么差呢？\n",
    "\n",
    "仔细观察数据，我们知道 12 月 25 日正好是圣诞节。对于欧美国家来说，圣诞节就相当于是我们的春节，而从圣诞节之后的一周直到元旦都是假期。因此，在圣诞节的前后人们的出行习惯肯定会与往日有很大的不同。但是，在我们的训练样本中，因为整个数据仅仅有两年的长度，所以包含圣诞节前后的样本仅仅有一次，这就导致我们没办法对这一特殊假期的模式进行很好地预测。"
   ]
  },
  {
   "cell_type": "markdown",
   "metadata": {
    "collapsed": false
   },
   "source": [
    "<a href=\"#index\">回到目录</a>"
   ]
  },
  {
   "cell_type": "markdown",
   "metadata": {
    "collapsed": false
   },
   "source": [
    "## 五、实验总结"
   ]
  },
  {
   "cell_type": "markdown",
   "metadata": {
    "collapsed": false
   },
   "source": [
    "至此，本实验结束，我们对本实验所经历的过程进行总结：\n",
    "\n",
    "- 1.我们学习了使用神经网络模型解决实际问题的方法。\n",
    "- 2.我们了解到对数据预处理的一些方法。\n",
    "- 3.我们熟悉了搭建神经网络的一般流程。\n",
    "- 4.我们了解到测试神经网络、简单分析神经网络的方法。\n",
    "\n",
    "通过本次实验，我们才第一次接触到深度神经网络模型的真正应用，我们发现它真的可以在实际问题中取得很好的效果。\n",
    "\n",
    "当然，现实中深度学习要解决的问题往往不像例子中那么简单，但是我们本系列的实验也刚刚开始，只要你有兴趣有毅力探索下去，还有什么问题是人类解决不了的哪？"
   ]
  },
  {
   "cell_type": "markdown",
   "metadata": {
    "collapsed": false
   },
   "source": [
    "<div style=\"color: #999;font-size: 12px;\">©️ 本课程内容，由作者授权学堂在线发布，未经允许，禁止转载、下载及非法传播。</div>"
   ]
  }
 ],
 "metadata": {
  "kernelspec": {
   "display_name": "PaddlePaddle 1.8.0 (Python 3.5)",
   "language": "python",
   "name": "py35-paddle1.2.0"
  },
  "language_info": {
   "codemirror_mode": {
    "name": "ipython",
    "version": 3
   },
   "file_extension": ".py",
   "mimetype": "text/x-python",
   "name": "python",
   "nbconvert_exporter": "python",
   "pygments_lexer": "ipython3",
   "version": "3.7.4"
  }
 },
 "nbformat": 4,
 "nbformat_minor": 1
}
