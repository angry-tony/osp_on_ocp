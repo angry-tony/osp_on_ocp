{
 "cells": [
  {
   "cell_type": "markdown",
   "metadata": {
    "collapsed": false
   },
   "source": [
    "# PyTorch 入门与实战 实验1：PyTorch使用简介"
   ]
  },
  {
   "cell_type": "markdown",
   "metadata": {
    "collapsed": false
   },
   "source": [
    "<h2><a id=\"introduction\">一、实验介绍</a></h2>\n",
    "\n",
    "\n",
    "### 1.1 实验内容\n",
    "\n",
    "Pytorch 是由 Facebook 支持的一套深度学习开源框架，\n",
    "\n",
    "相比较 Tensorflow，它更加容易快速上手，所以一经推出就广受欢迎。\n",
    "\n",
    "本课程是采用 Pytorch 开源框架进行案例讲解的深度学习课程。\n",
    "\n",
    "Tensor（张量）是 PyTorch 的基础数据结构，自动微分运算是深度学习的核心。\n",
    "\n",
    "在本实验中我们将学习 PyTorch 中 Tensor 的用法，以及简单的自动微分变量原理，\n",
    "\n",
    "最后，我们还会使用 PyTorch 构建一个简单的线性回归网络。\n",
    "\n",
    "### 1.2 实验知识点 \n",
    "\n",
    "- PyTorch 简介\n",
    "\n",
    "- PyTorch 中的张量及其运算\n",
    "\n",
    "- PyTorch 中的自动微分运算\n",
    "\n",
    "- 用 PyTorch 实现线性回归\n",
    "\n",
    "### 1.3 实验环境\n",
    "\n",
    "- Python 3.7\n",
    "\n",
    "- PyTorch 0.4.0\n",
    "\n",
    "- Jupyter Notebook\n",
    "\n",
    "\n",
    "### 1.4 适合人群\n",
    "\n",
    "本课程难度为一般，属于初级实践级别课程，适合具有 Python 基础并对深度学习有一定认识的用户，将 PyTorch 应用到简单问题的解决中。"
   ]
  },
  {
   "cell_type": "markdown",
   "metadata": {
    "collapsed": false
   },
   "source": [
    "<h3 ><a id = \"index\"> 1.5 索引目录</a></h3>"
   ]
  },
  {
   "cell_type": "markdown",
   "metadata": {
    "collapsed": false
   },
   "source": [
    "<a href=\"#introduction\">一、实验介绍</a>\n",
    "\n",
    "<a href=\"#start\">二、有关张量（Tensor）运算的练习</a>\n",
    "\n",
    "<a href=\"#train\">三、有关自动微分（Autograd）变量的练习</a>\n",
    "\n",
    "<a href=\"#load\">四、利用PyTorch实现简单的线性回归算法</a>"
   ]
  },
  {
   "cell_type": "markdown",
   "metadata": {
    "collapsed": false
   },
   "source": [
    "<h2 ><a id = \"start\">二、有关张量（Tensor）运算的练习</a></h2>"
   ]
  },
  {
   "cell_type": "markdown",
   "metadata": {
    "collapsed": false
   },
   "source": [
    "### 2.1  使用 Tensor"
   ]
  },
  {
   "cell_type": "markdown",
   "metadata": {
    "collapsed": false
   },
   "source": [
    "![](https://ai-studio-static-online.cdn.bcebos.com/ca1a7a29da164dedb0e9965723a8f466e033e96be07a488e9fb011f5f29bdd55)"
   ]
  },
  {
   "cell_type": "markdown",
   "metadata": {
    "collapsed": false
   },
   "source": [
    "PyTorch 是一个开源的深度学习框架，由 Facebook 支持开发。\n",
    "\n",
    "它的前身为 Torch，但因为 Torch 使用的编程语言是 Lua，在国内流行度很小。\n",
    "\n",
    "Facebook 为了迎合数量更多的 Python 用户的需求，推出了 PyTorch。"
   ]
  },
  {
   "cell_type": "markdown",
   "metadata": {
    "collapsed": false
   },
   "source": [
    "PyTorch 完全开源意味着你可以轻易获取它的代码，并按照自己的需求对它进行修改。\n",
    "\n",
    "比如让 PyTorch 支持复数运算等等。\n",
    "\n",
    "PyTorch 还有另外一个非常出众的特点是，\n",
    "\n",
    "使用 PyTorch 框架编写出的神经网络模型的代码非常简洁。\n",
    "\n",
    "实现同样的功能，使用 PyTorch 框架编写的代码往往更清晰明了，\n",
    "\n",
    "这点我们可以从下图中略见一斑："
   ]
  },
  {
   "cell_type": "markdown",
   "metadata": {
    "collapsed": false
   },
   "source": [
    "![](https://ai-studio-static-online.cdn.bcebos.com/6e3e018baff74cfc992eb405047c9b7f15c8d4e035d442418d6c7eb23d037744)\n",
    "\n"
   ]
  },
  {
   "cell_type": "markdown",
   "metadata": {
    "collapsed": false
   },
   "source": [
    "PyTorch 的基本数据单元是张量（Tensor），它实际上是一种 N 维数组。\n",
    "\n",
    "下面我们列举了三种张量，可以看到它们的维度阶数是不同的。"
   ]
  },
  {
   "cell_type": "markdown",
   "metadata": {
    "collapsed": false
   },
   "source": [
    "\n",
    "![](https://ai-studio-static-online.cdn.bcebos.com/ad68350fd8ea4bf3add4fc90ab1774a945f0e4d289694b1a94c4f67293994e05)\n"
   ]
  },
  {
   "cell_type": "markdown",
   "metadata": {
    "collapsed": false
   },
   "source": [
    "1 阶的张量可以看做是一个向量，通过索引可以取到一个“值”。\n",
    "\n",
    "2 阶张量可以看做为一个矩阵，通过索引可以取到一个个的向量。\n",
    "\n",
    "3 阶张量有点抽象，不过我们可以从图中看出，\n",
    "\n",
    "3 阶张量其实就是在 2 阶张量的矩阵中增加了一个深度。\n",
    "\n",
    "也就是说在 3 阶张量中我们可以通过索引取到一个个的矩阵。\n",
    "\n",
    "我们不难想象，4 阶张量也就是在 3 阶张量上增加了另外一个轴……\n",
    "\n",
    "我们可以使用 `Tensor.size()` 方法获得一个张量的“尺寸”。\n",
    "\n",
    "在这里注意“尺寸”和维度是两个概念。\n",
    "\n",
    "就比如对于上图中的 1 阶张量，它的维度为 1，尺寸为 8；\n",
    "\n",
    "对于上图中的 2 阶张量，它的维度为 2，尺寸为（8，6）。"
   ]
  },
  {
   "cell_type": "markdown",
   "metadata": {
    "collapsed": false
   },
   "source": [
    "要使用 PyTorch，首先需要在 Python 中引入 PyTorch 的包。"
   ]
  },
  {
   "cell_type": "markdown",
   "metadata": {
    "collapsed": false
   },
   "source": [
    "**▶ 示例代码：**\n",
    "\n",
    "```python\n",
    "import torch  #导入torch包\n",
    "```\n",
    "\n",
    "**▶ 动手练习：**"
   ]
  },
  {
   "cell_type": "code",
   "execution_count": 1,
   "metadata": {
    "collapsed": false
   },
   "outputs": [],
   "source": [
    "import torch"
   ]
  },
  {
   "cell_type": "markdown",
   "metadata": {
    "collapsed": false
   },
   "source": [
    "可以通过以下代码查看当前系统中 PyTorch 的版本："
   ]
  },
  {
   "cell_type": "markdown",
   "metadata": {
    "collapsed": false
   },
   "source": [
    "**▶ 示例代码：**\n",
    "\n",
    "```python\n",
    "print(torch.__version__)\n",
    "```\n",
    "\n",
    "**▶ 动手练习：**"
   ]
  },
  {
   "cell_type": "code",
   "execution_count": 3,
   "metadata": {
    "collapsed": false
   },
   "outputs": [
    {
     "name": "stdout",
     "output_type": "stream",
     "text": [
      "1.4.0\n"
     ]
    }
   ],
   "source": [
    "print(torch.__version__)"
   ]
  },
  {
   "cell_type": "markdown",
   "metadata": {
    "collapsed": false
   },
   "source": [
    "可以生成随机数张量："
   ]
  },
  {
   "cell_type": "markdown",
   "metadata": {
    "collapsed": false
   },
   "source": [
    "**▶ 示例代码：**\n",
    "\n",
    "```python\n",
    "x = torch.rand(5, 3)  #产生一个5*3的tensor，随机取值\n",
    "x  #显示x的值\n",
    "```\n",
    "\n",
    "**▶ 动手练习：**"
   ]
  },
  {
   "cell_type": "code",
   "execution_count": 4,
   "metadata": {
    "collapsed": false
   },
   "outputs": [
    {
     "data": {
      "text/plain": [
       "tensor([[0.6342, 0.7186, 0.2088],\n",
       "        [0.7189, 0.5715, 0.7176],\n",
       "        [0.2328, 0.1026, 0.4160],\n",
       "        [0.9963, 0.7341, 0.7409],\n",
       "        [0.3948, 0.1482, 0.2897]])"
      ]
     },
     "execution_count": 4,
     "metadata": {},
     "output_type": "execute_result"
    }
   ],
   "source": [
    "x = torch.rand(5, 3)\r\n",
    "x"
   ]
  },
  {
   "cell_type": "markdown",
   "metadata": {
    "collapsed": false
   },
   "source": [
    "可以使用 `zeros`，`ones` 方法生成包含固定值的张量："
   ]
  },
  {
   "cell_type": "markdown",
   "metadata": {
    "collapsed": false
   },
   "source": [
    "**▶ 示例代码：**\n",
    "\n",
    "```python\n",
    "y = torch.ones(5, 3) #产生一个5*3的Tensor，元素都是1\n",
    "y\n",
    "```\n",
    "\n",
    "**▶ 动手练习：**"
   ]
  },
  {
   "cell_type": "code",
   "execution_count": 5,
   "metadata": {
    "collapsed": false
   },
   "outputs": [
    {
     "data": {
      "text/plain": [
       "tensor([[1., 1., 1.],\n",
       "        [1., 1., 1.],\n",
       "        [1., 1., 1.],\n",
       "        [1., 1., 1.],\n",
       "        [1., 1., 1.]])"
      ]
     },
     "execution_count": 5,
     "metadata": {},
     "output_type": "execute_result"
    }
   ],
   "source": [
    "y = torch.ones(5,3)\r\n",
    "y"
   ]
  },
  {
   "cell_type": "markdown",
   "metadata": {
    "collapsed": false
   },
   "source": [
    "### 2.2  基本 Tensor 运算"
   ]
  },
  {
   "cell_type": "markdown",
   "metadata": {
    "collapsed": false
   },
   "source": [
    "两个 2 阶张量相加的方法实际上就是矩阵加法。\n",
    "\n",
    "注意，要使两个张量相加，必须保证两个张量的尺寸是一致的。"
   ]
  },
  {
   "cell_type": "markdown",
   "metadata": {
    "collapsed": false
   },
   "source": [
    "**▶ 示例代码：**\n",
    "\n",
    "```python\n",
    "z = x + y #两个tensor可以直接相加\n",
    "z\n",
    "```\n",
    "\n",
    "**▶ 动手练习：**"
   ]
  },
  {
   "cell_type": "code",
   "execution_count": 6,
   "metadata": {
    "collapsed": false
   },
   "outputs": [
    {
     "data": {
      "text/plain": [
       "tensor([[1.6342, 1.7186, 1.2088],\n",
       "        [1.7189, 1.5715, 1.7176],\n",
       "        [1.2328, 1.1026, 1.4160],\n",
       "        [1.9963, 1.7341, 1.7409],\n",
       "        [1.3948, 1.1482, 1.2897]])"
      ]
     },
     "execution_count": 6,
     "metadata": {},
     "output_type": "execute_result"
    }
   ],
   "source": [
    "z = x+y\r\n",
    "z"
   ]
  },
  {
   "cell_type": "markdown",
   "metadata": {
    "collapsed": false
   },
   "source": [
    "下面的语句展示了两个 tensor 按照矩阵的方式相乘，注意 x 的尺寸是 5*3，\n",
    "\n",
    "y 的尺寸也是 5*3 无法进行矩阵乘法，所以先将 y 进行转置。\n",
    "\n",
    "转置操作可以用 `.t()` 来完成，也可以用 `transpose(0, 1)` 来完成。"
   ]
  },
  {
   "cell_type": "markdown",
   "metadata": {
    "collapsed": false
   },
   "source": [
    "\n",
    "![](https://ai-studio-static-online.cdn.bcebos.com/4be92f3f5e49431fb98ff6fba6caaf20ff3008003609477fafccd0603bc2880a)\n",
    "\n"
   ]
  },
  {
   "cell_type": "markdown",
   "metadata": {
    "collapsed": false
   },
   "source": [
    "**▶ 示例代码：**\n",
    "\n",
    "```python\n",
    "q = x.mm(y.t()) #x乘以y的转置\n",
    "q\n",
    "```\n",
    "\n",
    "**▶ 动手练习：**"
   ]
  },
  {
   "cell_type": "code",
   "execution_count": 10,
   "metadata": {
    "collapsed": false
   },
   "outputs": [
    {
     "data": {
      "text/plain": [
       "tensor([[1.5616, 1.5616, 1.5616, 1.5616, 1.5616],\n",
       "        [2.0080, 2.0080, 2.0080, 2.0080, 2.0080],\n",
       "        [0.7514, 0.7514, 0.7514, 0.7514, 0.7514],\n",
       "        [2.4712, 2.4712, 2.4712, 2.4712, 2.4712],\n",
       "        [0.8328, 0.8328, 0.8328, 0.8328, 0.8328]])"
      ]
     },
     "execution_count": 10,
     "metadata": {},
     "output_type": "execute_result"
    }
   ],
   "source": [
    "q = x.mm(y.t())\r\n",
    "q\r\n"
   ]
  },
  {
   "cell_type": "markdown",
   "metadata": {
    "collapsed": false
   },
   "source": [
    "所有的Tensor的使用方法请见参考链接中的“Tensor支持的所有操作”。"
   ]
  },
  {
   "cell_type": "markdown",
   "metadata": {
    "collapsed": false
   },
   "source": [
    "### 2.3  Tensor 与 numpy.ndarray 之间的转换"
   ]
  },
  {
   "cell_type": "markdown",
   "metadata": {
    "collapsed": false
   },
   "source": [
    "PyTorch 的 Tensor 可以与 Python 的常用数据处理包 Numpy 中的多维数组进行转换。"
   ]
  },
  {
   "cell_type": "markdown",
   "metadata": {
    "collapsed": false
   },
   "source": [
    "**▶ 示例代码：**\n",
    "\n",
    "```python\n",
    "import numpy as np #导入numpy包\n",
    "a = np.ones([5, 3]) #建立一个5*3全是m1的二维数组（矩阵）\n",
    "b = torch.from_numpy(a) #利用from_numpy将其转换为tensor\n",
    "b\n",
    "```\n",
    "\n",
    "**▶ 动手练习：**"
   ]
  },
  {
   "cell_type": "code",
   "execution_count": 11,
   "metadata": {
    "collapsed": false
   },
   "outputs": [
    {
     "data": {
      "text/plain": [
       "tensor([[1., 1., 1.],\n",
       "        [1., 1., 1.],\n",
       "        [1., 1., 1.],\n",
       "        [1., 1., 1.],\n",
       "        [1., 1., 1.]], dtype=torch.float64)"
      ]
     },
     "execution_count": 11,
     "metadata": {},
     "output_type": "execute_result"
    }
   ],
   "source": [
    "import numpy as np\r\n",
    "a = np.ones([5,3])\r\n",
    "b = torch.from_numpy(a)\r\n",
    "b"
   ]
  },
  {
   "cell_type": "markdown",
   "metadata": {
    "collapsed": false
   },
   "source": [
    "下面是另外一种转换 Tensor 的方法，类型为 FloatTensor。"
   ]
  },
  {
   "cell_type": "markdown",
   "metadata": {
    "collapsed": false
   },
   "source": [
    "**▶ 示例代码：**\n",
    "\n",
    "```python\n",
    "# 还可以使LongTensor，整型数据类型\n",
    "c = torch.FloatTensor(a) \n",
    "c\n",
    "```\n",
    "\n",
    "**▶ 动手练习：**"
   ]
  },
  {
   "cell_type": "code",
   "execution_count": 12,
   "metadata": {
    "collapsed": false
   },
   "outputs": [
    {
     "data": {
      "text/plain": [
       "tensor([[1., 1., 1.],\n",
       "        [1., 1., 1.],\n",
       "        [1., 1., 1.],\n",
       "        [1., 1., 1.],\n",
       "        [1., 1., 1.]])"
      ]
     },
     "execution_count": 12,
     "metadata": {},
     "output_type": "execute_result"
    }
   ],
   "source": [
    "c = torch.FloatTensor(a)\r\n",
    "c"
   ]
  },
  {
   "cell_type": "markdown",
   "metadata": {
    "collapsed": false
   },
   "source": [
    "还可以从一个 tensor 转化为 numpy 的多维数组"
   ]
  },
  {
   "cell_type": "markdown",
   "metadata": {
    "collapsed": false
   },
   "source": [
    "**▶ 示例代码：**\n",
    "\n",
    "```python\n",
    "b.numpy()  \n",
    "```\n",
    "\n",
    "**▶ 动手练习：**"
   ]
  },
  {
   "cell_type": "code",
   "execution_count": 13,
   "metadata": {
    "collapsed": false
   },
   "outputs": [
    {
     "data": {
      "text/plain": [
       "array([[1., 1., 1.],\n",
       "       [1., 1., 1.],\n",
       "       [1., 1., 1.],\n",
       "       [1., 1., 1.],\n",
       "       [1., 1., 1.]])"
      ]
     },
     "execution_count": 13,
     "metadata": {},
     "output_type": "execute_result"
    }
   ],
   "source": [
    "b.numpy()"
   ]
  },
  {
   "cell_type": "markdown",
   "metadata": {
    "collapsed": false
   },
   "source": [
    "Tensor 和 Numpy 的最大区别在于 Tensor 可以在 GPU 上进行运算。\n",
    "\n",
    "默认情况下，Tensor 是在 CPU 上进行运算的，\n",
    "\n",
    "如果我们需要一个 Tensor 在 GPU 上的实例，需要运行这个 Tensor 的 `.cuda()` 方法。\n",
    "\n",
    "在下面的代码中，首先判断在本机上是否有 GPU 环境可用（有 NVIDIA的 GPU，并安装了驱动）。\n",
    "\n",
    "如果有 GPU 环境可用，那么再去获得张量 `x`，`y` 的 GPU 实例。\n",
    "\n",
    "注意在最后打印 `x` 和 `y` 这两个 GPU 张量的和的时候，我们调用了 `.cpu()` 方法，\n",
    "\n",
    "意思是将 GPU 张量转化为 CPU 张量，否则系统会报错。"
   ]
  },
  {
   "cell_type": "markdown",
   "metadata": {
    "collapsed": false
   },
   "source": [
    "**▶ 示例代码：**\n",
    "\n",
    "```python\n",
    "if torch.cuda.is_available():  #检测本机器上有无GPU可用\n",
    "    x = x.cuda() #返回x的GPU上运算的版本\n",
    "    y = y.cuda()\n",
    "    z = x + y\n",
    "print(z.cpu()) # 打印时注意要把GPU变量转化为CPU变量。\n",
    "```\n",
    "\n",
    "**▶ 动手练习：**"
   ]
  },
  {
   "cell_type": "code",
   "execution_count": 14,
   "metadata": {
    "collapsed": false
   },
   "outputs": [
    {
     "name": "stdout",
     "output_type": "stream",
     "text": [
      "tensor([[1.6342, 1.7186, 1.2088],\n",
      "        [1.7189, 1.5715, 1.7176],\n",
      "        [1.2328, 1.1026, 1.4160],\n",
      "        [1.9963, 1.7341, 1.7409],\n",
      "        [1.3948, 1.1482, 1.2897]])\n"
     ]
    }
   ],
   "source": [
    "if torch.cuda.is_available():\r\n",
    "    x = x.cuda()\r\n",
    "    y = y.cuda()\r\n",
    "z = x + y\r\n",
    "print(z.cpu())"
   ]
  },
  {
   "cell_type": "markdown",
   "metadata": {
    "collapsed": false
   },
   "source": [
    "<a href=\"#index\">回到目录</a>"
   ]
  },
  {
   "cell_type": "markdown",
   "metadata": {
    "collapsed": false
   },
   "source": [
    "<h2 ><a id = \"train\">三、有关自动微分（Autograd）变量的练习</a></h2>"
   ]
  },
  {
   "cell_type": "markdown",
   "metadata": {
    "collapsed": false
   },
   "source": [
    "动态运算图(Dynamic Computation Graph)是 PyTorch 的最主要特性，\n",
    "\n",
    "它可以让我们的计算模型更灵活、复杂，并可以让反向传播算法随时进行。\n",
    "\n",
    "而反向传播算法就是深度神经网络的核心。\n",
    "\n",
    "下面是一个计算图的结构以及与它对应的 PyTorch 代码："
   ]
  },
  {
   "cell_type": "markdown",
   "metadata": {
    "collapsed": false
   },
   "source": [
    "\n",
    "![](https://ai-studio-static-online.cdn.bcebos.com/c39b05601ddc4dd98aa8bb2b5e3e82724e3cf42a03984de481b3960a0d6d602a)\n",
    "\n"
   ]
  },
  {
   "cell_type": "markdown",
   "metadata": {
    "collapsed": false
   },
   "source": [
    "用来构建计算图的数据叫做自动微分变量（Variable），它与 Tensor 不同。\n",
    "\n",
    "每个 Variable 包含三个属性，分别对应着数据（data），父节点（creator），以及梯度（grad）。\n",
    "\n",
    "其中“梯度”就是反向传播算法所要传播的信息。\n",
    "\n",
    "而父节点用于将每个节点连接起来构建计算图（如上图所示）。\n"
   ]
  },
  {
   "cell_type": "markdown",
   "metadata": {
    "collapsed": false
   },
   "source": [
    "\n",
    "![](https://ai-studio-static-online.cdn.bcebos.com/ac35a254318a4c77a6fb6213a2300e1ffb40ca4def864704b00b32bd596a0844)\n",
    "\n"
   ]
  },
  {
   "cell_type": "markdown",
   "metadata": {
    "collapsed": false
   },
   "source": [
    "下面我们编写代码实际使用自动微分变量。"
   ]
  },
  {
   "cell_type": "markdown",
   "metadata": {
    "collapsed": false
   },
   "source": [
    "**▶ 示例代码：**\n",
    "\n",
    "```python\n",
    "#导入自动梯度的运算包，主要用Variable这个类\n",
    "from torch.autograd import Variable  \n",
    "\n",
    "#创建一个Variable，包裹了一个2*2张量，将需要计算梯度属性置为True\n",
    "\n",
    "x = Variable(torch.ones(2, 2), requires_grad=True)  \n",
    "x\n",
    "```\n",
    "\n",
    "**▶ 动手练习：**\n"
   ]
  },
  {
   "cell_type": "code",
   "execution_count": 18,
   "metadata": {
    "collapsed": false
   },
   "outputs": [
    {
     "name": "stdout",
     "output_type": "stream",
     "text": [
      "Looking in indexes: https://mirror.baidu.com/pypi/simple/\n",
      "Requirement already satisfied: torchviz in /opt/conda/envs/python35-paddle120-env/lib/python3.7/site-packages (0.0.2)\n",
      "Requirement already satisfied: torch in /opt/conda/envs/python35-paddle120-env/lib/python3.7/site-packages (from torchviz) (1.4.0)\n",
      "Requirement already satisfied: graphviz in /opt/conda/envs/python35-paddle120-env/lib/python3.7/site-packages (from torchviz) (0.13)\n",
      "Note: you may need to restart the kernel to use updated packages.\n"
     ]
    }
   ],
   "source": [
    "%pip install torchviz"
   ]
  },
  {
   "cell_type": "code",
   "execution_count": 19,
   "metadata": {
    "collapsed": false
   },
   "outputs": [
    {
     "name": "stderr",
     "output_type": "stream",
     "text": [
      "/opt/conda/envs/python35-paddle120-env/lib/python3.7/site-packages/torch/autograd/__init__.py:179: UserWarning: torch.autograd.variable(...) is deprecated, use torch.tensor(...) instead\n",
      "  warnings.warn(\"torch.autograd.variable(...) is deprecated, use torch.tensor(...) instead\")\n",
      "/opt/conda/envs/python35-paddle120-env/lib/python3.7/site-packages/torch/autograd/__init__.py:180: UserWarning: To copy construct from a tensor, it is recommended to use sourceTensor.clone().detach() or sourceTensor.clone().detach().requires_grad_(True), rather than torch.tensor(sourceTensor).\n",
      "  return torch.tensor(*args, **kwargs)\n"
     ]
    },
    {
     "data": {
      "text/plain": [
       "tensor([[1., 1.],\n",
       "        [1., 1.]], requires_grad=True)"
      ]
     },
     "execution_count": 19,
     "metadata": {},
     "output_type": "execute_result"
    }
   ],
   "source": [
    "from torchviz import make_dot\r\n",
    "\r\n",
    "from torch.autograd import variable\r\n",
    "\r\n",
    "x = variable(torch.ones(2,2), requires_grad=True)\r\n",
    "x\r\n"
   ]
  },
  {
   "cell_type": "code",
   "execution_count": 28,
   "metadata": {
    "collapsed": false
   },
   "outputs": [
    {
     "data": {
      "image/svg+xml": [
       "<?xml version=\"1.0\" encoding=\"UTF-8\" standalone=\"no\"?>\n",
       "<!DOCTYPE svg PUBLIC \"-//W3C//DTD SVG 1.1//EN\"\n",
       " \"http://www.w3.org/Graphics/SVG/1.1/DTD/svg11.dtd\">\n",
       "<!-- Generated by graphviz version 2.38.0 (20140413.2041)\n",
       " -->\n",
       "<!-- Title: %3 Pages: 1 -->\n",
       "<svg width=\"67pt\" height=\"39pt\"\n",
       " viewBox=\"0.00 0.00 67.00 39.00\" xmlns=\"http://www.w3.org/2000/svg\" xmlns:xlink=\"http://www.w3.org/1999/xlink\">\n",
       "<g id=\"graph0\" class=\"graph\" transform=\"scale(1 1) rotate(0) translate(4 35)\">\n",
       "<title>%3</title>\n",
       "<polygon fill=\"white\" stroke=\"none\" points=\"-4,4 -4,-35 63,-35 63,4 -4,4\"/>\n",
       "<!-- 139777903142624 -->\n",
       "<g id=\"node1\" class=\"node\"><title>139777903142624</title>\n",
       "<polygon fill=\"#caff70\" stroke=\"black\" points=\"59,-31 0,-31 0,-0 59,-0 59,-31\"/>\n",
       "<text text-anchor=\"middle\" x=\"29.5\" y=\"-7\" font-family=\"monospace\" font-size=\"10.00\"> (2, 2)</text>\n",
       "</g>\n",
       "</g>\n",
       "</svg>\n"
      ],
      "text/plain": [
       "<graphviz.dot.Digraph at 0x7f20946a6c90>"
      ]
     },
     "execution_count": 28,
     "metadata": {},
     "output_type": "execute_result"
    }
   ],
   "source": [
    "x = torch.ones(2,2,requires_grad=True)\r\n",
    "\r\n",
    "make_dot(x)"
   ]
  },
  {
   "cell_type": "markdown",
   "metadata": {
    "collapsed": false
   },
   "source": [
    "可以按照 Tensor 的方式进行计算"
   ]
  },
  {
   "cell_type": "markdown",
   "metadata": {
    "collapsed": false
   },
   "source": [
    "**▶ 示例代码：**\n",
    "\n",
    "```python\n",
    "y = x + 2  #可以按照Tensor的方式进行计算\n",
    "y.grad_fn  #每个Variable都有一个creator（创造者节点）\n",
    "```\n",
    "\n",
    "**▶ 动手练习：**"
   ]
  },
  {
   "cell_type": "code",
   "execution_count": 38,
   "metadata": {
    "collapsed": false
   },
   "outputs": [
    {
     "data": {
      "text/plain": [
       "<AddBackward0 at 0x7f20942182d0>"
      ]
     },
     "execution_count": 38,
     "metadata": {},
     "output_type": "execute_result"
    }
   ],
   "source": [
    "y = x+2\r\n",
    "y.grad_fn\r\n",
    "\r\n",
    "# make_dot(y)"
   ]
  },
  {
   "cell_type": "code",
   "execution_count": 36,
   "metadata": {
    "collapsed": false
   },
   "outputs": [
    {
     "data": {
      "text/plain": [
       "tensor([[3., 3.],\n",
       "        [3., 3.]], grad_fn=<AddBackward0>)"
      ]
     },
     "execution_count": 36,
     "metadata": {},
     "output_type": "execute_result"
    }
   ],
   "source": [
    "y"
   ]
  },
  {
   "cell_type": "code",
   "execution_count": 37,
   "metadata": {
    "collapsed": false
   },
   "outputs": [
    {
     "data": {
      "image/svg+xml": [
       "<?xml version=\"1.0\" encoding=\"UTF-8\" standalone=\"no\"?>\n",
       "<!DOCTYPE svg PUBLIC \"-//W3C//DTD SVG 1.1//EN\"\n",
       " \"http://www.w3.org/Graphics/SVG/1.1/DTD/svg11.dtd\">\n",
       "<!-- Generated by graphviz version 2.38.0 (20140413.2041)\n",
       " -->\n",
       "<!-- Title: %3 Pages: 1 -->\n",
       "<svg width=\"109pt\" height=\"216pt\"\n",
       " viewBox=\"0.00 0.00 109.00 216.00\" xmlns=\"http://www.w3.org/2000/svg\" xmlns:xlink=\"http://www.w3.org/1999/xlink\">\n",
       "<g id=\"graph0\" class=\"graph\" transform=\"scale(1 1) rotate(0) translate(4 212)\">\n",
       "<title>%3</title>\n",
       "<polygon fill=\"white\" stroke=\"none\" points=\"-4,4 -4,-212 105,-212 105,4 -4,4\"/>\n",
       "<!-- 139777901486320 -->\n",
       "<g id=\"node1\" class=\"node\"><title>139777901486320</title>\n",
       "<polygon fill=\"#caff70\" stroke=\"black\" points=\"80,-31 21,-31 21,-0 80,-0 80,-31\"/>\n",
       "<text text-anchor=\"middle\" x=\"50.5\" y=\"-7\" font-family=\"monospace\" font-size=\"10.00\"> (2, 2)</text>\n",
       "</g>\n",
       "<!-- 139777900982352 -->\n",
       "<g id=\"node2\" class=\"node\"><title>139777900982352</title>\n",
       "<polygon fill=\"lightgrey\" stroke=\"black\" points=\"95,-86 6,-86 6,-67 95,-67 95,-86\"/>\n",
       "<text text-anchor=\"middle\" x=\"50.5\" y=\"-74\" font-family=\"monospace\" font-size=\"10.00\">AddBackward0</text>\n",
       "</g>\n",
       "<!-- 139777900982352&#45;&gt;139777901486320 -->\n",
       "<g id=\"edge3\" class=\"edge\"><title>139777900982352&#45;&gt;139777901486320</title>\n",
       "<path fill=\"none\" stroke=\"black\" d=\"M50.5,-66.7943C50.5,-60.0669 50.5,-50.404 50.5,-41.3425\"/>\n",
       "<polygon fill=\"black\" stroke=\"black\" points=\"54.0001,-41.1932 50.5,-31.1933 47.0001,-41.1933 54.0001,-41.1932\"/>\n",
       "</g>\n",
       "<!-- 139777900983824 -->\n",
       "<g id=\"node3\" class=\"node\"><title>139777900983824</title>\n",
       "<polygon fill=\"lightgrey\" stroke=\"black\" points=\"101,-141 0,-141 0,-122 101,-122 101,-141\"/>\n",
       "<text text-anchor=\"middle\" x=\"50.5\" y=\"-129\" font-family=\"monospace\" font-size=\"10.00\">AccumulateGrad</text>\n",
       "</g>\n",
       "<!-- 139777900983824&#45;&gt;139777900982352 -->\n",
       "<g id=\"edge1\" class=\"edge\"><title>139777900983824&#45;&gt;139777900982352</title>\n",
       "<path fill=\"none\" stroke=\"black\" d=\"M50.5,-121.748C50.5,-114.802 50.5,-104.845 50.5,-96.1349\"/>\n",
       "<polygon fill=\"black\" stroke=\"black\" points=\"54.0001,-96.089 50.5,-86.089 47.0001,-96.0891 54.0001,-96.089\"/>\n",
       "</g>\n",
       "<!-- 139777903142624 -->\n",
       "<g id=\"node4\" class=\"node\"><title>139777903142624</title>\n",
       "<polygon fill=\"lightblue\" stroke=\"black\" points=\"80,-208 21,-208 21,-177 80,-177 80,-208\"/>\n",
       "<text text-anchor=\"middle\" x=\"50.5\" y=\"-184\" font-family=\"monospace\" font-size=\"10.00\"> (2, 2)</text>\n",
       "</g>\n",
       "<!-- 139777903142624&#45;&gt;139777900983824 -->\n",
       "<g id=\"edge2\" class=\"edge\"><title>139777903142624&#45;&gt;139777900983824</title>\n",
       "<path fill=\"none\" stroke=\"black\" d=\"M50.5,-176.916C50.5,-169.221 50.5,-159.688 50.5,-151.43\"/>\n",
       "<polygon fill=\"black\" stroke=\"black\" points=\"54.0001,-151.249 50.5,-141.249 47.0001,-151.249 54.0001,-151.249\"/>\n",
       "</g>\n",
       "</g>\n",
       "</svg>\n"
      ],
      "text/plain": [
       "<graphviz.dot.Digraph at 0x7f2094240410>"
      ]
     },
     "execution_count": 37,
     "metadata": {},
     "output_type": "execute_result"
    }
   ],
   "source": [
    "make_dot(y)"
   ]
  },
  {
   "cell_type": "markdown",
   "metadata": {
    "collapsed": false
   },
   "source": [
    "经过上面变量 `x` 和 `y` 的运算，我们就有了一个简单的计算图，它是下面这个样子的："
   ]
  },
  {
   "cell_type": "markdown",
   "metadata": {
    "collapsed": false
   },
   "source": [
    "\n",
    "![](https://ai-studio-static-online.cdn.bcebos.com/566dd7a2870649f2a3cd1686bece0e8e1f7d0d316ab1487dbf5fdb7586f04b3d)\n",
    "\n"
   ]
  },
  {
   "cell_type": "markdown",
   "metadata": {
    "collapsed": false
   },
   "source": [
    "下面我们让计算图再复杂一点，我们再加入变量 z:"
   ]
  },
  {
   "cell_type": "markdown",
   "metadata": {
    "collapsed": false
   },
   "source": [
    "**注意，.data 可以反回一个 Variable 所包裹的 Tensor**"
   ]
  },
  {
   "cell_type": "markdown",
   "metadata": {
    "collapsed": false
   },
   "source": [
    "**▶ 示例代码：**\n",
    "\n",
    "```python\n",
    "z = torch.mean(y * y)  #也可以进行复合运算，比如求均值mean\n",
    "z.data #.data属性可以返回z所包裹的tensor\n",
    "```\n",
    "\n",
    "**▶ 动手练习：**"
   ]
  },
  {
   "cell_type": "code",
   "execution_count": 41,
   "metadata": {
    "collapsed": false
   },
   "outputs": [
    {
     "data": {
      "text/plain": [
       "tensor(9.)"
      ]
     },
     "execution_count": 41,
     "metadata": {},
     "output_type": "execute_result"
    }
   ],
   "source": [
    "z = torch.mean(y*y)\r\n",
    "z.data"
   ]
  },
  {
   "cell_type": "code",
   "execution_count": 42,
   "metadata": {
    "collapsed": false
   },
   "outputs": [
    {
     "data": {
      "image/svg+xml": [
       "<?xml version=\"1.0\" encoding=\"UTF-8\" standalone=\"no\"?>\n",
       "<!DOCTYPE svg PUBLIC \"-//W3C//DTD SVG 1.1//EN\"\n",
       " \"http://www.w3.org/Graphics/SVG/1.1/DTD/svg11.dtd\">\n",
       "<!-- Generated by graphviz version 2.38.0 (20140413.2041)\n",
       " -->\n",
       "<!-- Title: %3 Pages: 1 -->\n",
       "<svg width=\"109pt\" height=\"326pt\"\n",
       " viewBox=\"0.00 0.00 109.00 326.00\" xmlns=\"http://www.w3.org/2000/svg\" xmlns:xlink=\"http://www.w3.org/1999/xlink\">\n",
       "<g id=\"graph0\" class=\"graph\" transform=\"scale(1 1) rotate(0) translate(4 322)\">\n",
       "<title>%3</title>\n",
       "<polygon fill=\"white\" stroke=\"none\" points=\"-4,4 -4,-322 105,-322 105,4 -4,4\"/>\n",
       "<!-- 139777905059632 -->\n",
       "<g id=\"node1\" class=\"node\"><title>139777905059632</title>\n",
       "<polygon fill=\"#caff70\" stroke=\"black\" points=\"77.5,-31 23.5,-31 23.5,-0 77.5,-0 77.5,-31\"/>\n",
       "<text text-anchor=\"middle\" x=\"50.5\" y=\"-7\" font-family=\"monospace\" font-size=\"10.00\"> ()</text>\n",
       "</g>\n",
       "<!-- 139768327689424 -->\n",
       "<g id=\"node2\" class=\"node\"><title>139768327689424</title>\n",
       "<polygon fill=\"lightgrey\" stroke=\"black\" points=\"98,-86 3,-86 3,-67 98,-67 98,-86\"/>\n",
       "<text text-anchor=\"middle\" x=\"50.5\" y=\"-74\" font-family=\"monospace\" font-size=\"10.00\">MeanBackward0</text>\n",
       "</g>\n",
       "<!-- 139768327689424&#45;&gt;139777905059632 -->\n",
       "<g id=\"edge6\" class=\"edge\"><title>139768327689424&#45;&gt;139777905059632</title>\n",
       "<path fill=\"none\" stroke=\"black\" d=\"M50.5,-66.7943C50.5,-60.0669 50.5,-50.404 50.5,-41.3425\"/>\n",
       "<polygon fill=\"black\" stroke=\"black\" points=\"54.0001,-41.1932 50.5,-31.1933 47.0001,-41.1933 54.0001,-41.1932\"/>\n",
       "</g>\n",
       "<!-- 139777903770960 -->\n",
       "<g id=\"node3\" class=\"node\"><title>139777903770960</title>\n",
       "<polygon fill=\"lightgrey\" stroke=\"black\" points=\"95,-141 6,-141 6,-122 95,-122 95,-141\"/>\n",
       "<text text-anchor=\"middle\" x=\"50.5\" y=\"-129\" font-family=\"monospace\" font-size=\"10.00\">MulBackward0</text>\n",
       "</g>\n",
       "<!-- 139777903770960&#45;&gt;139768327689424 -->\n",
       "<g id=\"edge1\" class=\"edge\"><title>139777903770960&#45;&gt;139768327689424</title>\n",
       "<path fill=\"none\" stroke=\"black\" d=\"M50.5,-121.748C50.5,-114.802 50.5,-104.845 50.5,-96.1349\"/>\n",
       "<polygon fill=\"black\" stroke=\"black\" points=\"54.0001,-96.089 50.5,-86.089 47.0001,-96.0891 54.0001,-96.089\"/>\n",
       "</g>\n",
       "<!-- 139777900905168 -->\n",
       "<g id=\"node4\" class=\"node\"><title>139777900905168</title>\n",
       "<polygon fill=\"lightgrey\" stroke=\"black\" points=\"95,-196 6,-196 6,-177 95,-177 95,-196\"/>\n",
       "<text text-anchor=\"middle\" x=\"50.5\" y=\"-184\" font-family=\"monospace\" font-size=\"10.00\">AddBackward0</text>\n",
       "</g>\n",
       "<!-- 139777900905168&#45;&gt;139777903770960 -->\n",
       "<g id=\"edge2\" class=\"edge\"><title>139777900905168&#45;&gt;139777903770960</title>\n",
       "<path fill=\"none\" stroke=\"black\" d=\"M45.3337,-176.748C43.8407,-169.802 43.4034,-159.845 44.0215,-151.135\"/>\n",
       "<polygon fill=\"black\" stroke=\"black\" points=\"47.5084,-151.466 45.369,-141.089 40.5705,-150.535 47.5084,-151.466\"/>\n",
       "</g>\n",
       "<!-- 139777900905168&#45;&gt;139777903770960 -->\n",
       "<g id=\"edge5\" class=\"edge\"><title>139777900905168&#45;&gt;139777903770960</title>\n",
       "<path fill=\"none\" stroke=\"black\" d=\"M55.6663,-176.748C57.1593,-169.802 57.5966,-159.845 56.9785,-151.135\"/>\n",
       "<polygon fill=\"black\" stroke=\"black\" points=\"60.4295,-150.535 55.631,-141.089 53.4916,-151.466 60.4295,-150.535\"/>\n",
       "</g>\n",
       "<!-- 139777903769680 -->\n",
       "<g id=\"node5\" class=\"node\"><title>139777903769680</title>\n",
       "<polygon fill=\"lightgrey\" stroke=\"black\" points=\"101,-251 0,-251 0,-232 101,-232 101,-251\"/>\n",
       "<text text-anchor=\"middle\" x=\"50.5\" y=\"-239\" font-family=\"monospace\" font-size=\"10.00\">AccumulateGrad</text>\n",
       "</g>\n",
       "<!-- 139777903769680&#45;&gt;139777900905168 -->\n",
       "<g id=\"edge3\" class=\"edge\"><title>139777903769680&#45;&gt;139777900905168</title>\n",
       "<path fill=\"none\" stroke=\"black\" d=\"M50.5,-231.748C50.5,-224.802 50.5,-214.845 50.5,-206.135\"/>\n",
       "<polygon fill=\"black\" stroke=\"black\" points=\"54.0001,-206.089 50.5,-196.089 47.0001,-206.089 54.0001,-206.089\"/>\n",
       "</g>\n",
       "<!-- 139777903142624 -->\n",
       "<g id=\"node6\" class=\"node\"><title>139777903142624</title>\n",
       "<polygon fill=\"lightblue\" stroke=\"black\" points=\"80,-318 21,-318 21,-287 80,-287 80,-318\"/>\n",
       "<text text-anchor=\"middle\" x=\"50.5\" y=\"-294\" font-family=\"monospace\" font-size=\"10.00\"> (2, 2)</text>\n",
       "</g>\n",
       "<!-- 139777903142624&#45;&gt;139777903769680 -->\n",
       "<g id=\"edge4\" class=\"edge\"><title>139777903142624&#45;&gt;139777903769680</title>\n",
       "<path fill=\"none\" stroke=\"black\" d=\"M50.5,-286.916C50.5,-279.221 50.5,-269.688 50.5,-261.43\"/>\n",
       "<polygon fill=\"black\" stroke=\"black\" points=\"54.0001,-261.249 50.5,-251.249 47.0001,-261.249 54.0001,-261.249\"/>\n",
       "</g>\n",
       "</g>\n",
       "</svg>\n"
      ],
      "text/plain": [
       "<graphviz.dot.Digraph at 0x7f20944d3190>"
      ]
     },
     "execution_count": 42,
     "metadata": {},
     "output_type": "execute_result"
    }
   ],
   "source": [
    "make_dot(z)"
   ]
  },
  {
   "cell_type": "markdown",
   "metadata": {
    "collapsed": false
   },
   "source": [
    "现在我们的计算图是这个样子的："
   ]
  },
  {
   "cell_type": "markdown",
   "metadata": {
    "collapsed": false
   },
   "source": [
    "\n",
    "![](https://ai-studio-static-online.cdn.bcebos.com/c72d451e4b6c41769f09f12e70bbd2a3b76da5e80a6a487bb17eaf132f0f5f26)\n",
    "\n"
   ]
  },
  {
   "cell_type": "markdown",
   "metadata": {
    "collapsed": false
   },
   "source": [
    "`backward` 可以实施反向传播算法，并计算所有计算图上叶子节点（没有子节点）的导数（梯度）信息。\n",
    "\n",
    "注意，由于 z 和 y 都不是叶子节点，所以都没有梯度信息"
   ]
  },
  {
   "cell_type": "markdown",
   "metadata": {
    "collapsed": false
   },
   "source": [
    "**▶ 示例代码：**\n",
    "\n",
    "```python\n",
    "z.backward() #梯度反向传播\n",
    "print(z.grad) # 无梯度信息\n",
    "print(y.grad) # 无梯度信息\n",
    "print(x.grad)\n",
    "```\n",
    "\n",
    "**▶ 动手练习：**"
   ]
  },
  {
   "cell_type": "code",
   "execution_count": 43,
   "metadata": {
    "collapsed": false
   },
   "outputs": [
    {
     "name": "stdout",
     "output_type": "stream",
     "text": [
      "None\n",
      "None\n",
      "tensor([[1.5000, 1.5000],\n",
      "        [1.5000, 1.5000]])\n"
     ]
    }
   ],
   "source": [
    "z.backward()\r\n",
    "print(z.grad)\r\n",
    "print(y.grad)\r\n",
    "print(x.grad)"
   ]
  },
  {
   "cell_type": "markdown",
   "metadata": {
    "collapsed": false
   },
   "source": [
    "在下面的例子中，会让矩阵 x 反复作用在向量 s 上，系统会自动记录中间的依赖关系和长路径。"
   ]
  },
  {
   "cell_type": "markdown",
   "metadata": {
    "collapsed": false
   },
   "source": [
    "**▶ 示例代码：**\n",
    "\n",
    "```python\n",
    "s = Variable(torch.FloatTensor([[0.01, 0.02]]), requires_grad = True) #创建一个1*2的Variable（1维向量）\n",
    "x = Variable(torch.ones(2, 2), requires_grad = True) #创建一个2*2的矩阵型Variable\n",
    "for i in range(10):\n",
    "    s = s.mm(x)  #反复用s乘以x（矩阵乘法），注意s始终是1*2的Variable\n",
    "z = torch.mean(s) #对s中的各个元素求均值，得到一个1*1的scalar（标量，即1*1张量）\n",
    "```\n",
    "\n",
    "**▶ 动手练习：**"
   ]
  },
  {
   "cell_type": "code",
   "execution_count": 85,
   "metadata": {
    "collapsed": false
   },
   "outputs": [
    {
     "data": {
      "image/svg+xml": [
       "<?xml version=\"1.0\" encoding=\"UTF-8\" standalone=\"no\"?>\n",
       "<!DOCTYPE svg PUBLIC \"-//W3C//DTD SVG 1.1//EN\"\n",
       " \"http://www.w3.org/Graphics/SVG/1.1/DTD/svg11.dtd\">\n",
       "<!-- Generated by graphviz version 2.38.0 (20140413.2041)\n",
       " -->\n",
       "<!-- Title: %3 Pages: 1 -->\n",
       "<svg width=\"443pt\" height=\"766pt\"\n",
       " viewBox=\"0.00 0.00 443.00 766.00\" xmlns=\"http://www.w3.org/2000/svg\" xmlns:xlink=\"http://www.w3.org/1999/xlink\">\n",
       "<g id=\"graph0\" class=\"graph\" transform=\"scale(1 1) rotate(0) translate(4 762)\">\n",
       "<title>%3</title>\n",
       "<polygon fill=\"white\" stroke=\"none\" points=\"-4,4 -4,-762 439,-762 439,4 -4,4\"/>\n",
       "<!-- 139777906371872 -->\n",
       "<g id=\"node1\" class=\"node\"><title>139777906371872</title>\n",
       "<polygon fill=\"#caff70\" stroke=\"black\" points=\"414.5,-31 360.5,-31 360.5,-0 414.5,-0 414.5,-31\"/>\n",
       "<text text-anchor=\"middle\" x=\"387.5\" y=\"-7\" font-family=\"monospace\" font-size=\"10.00\"> ()</text>\n",
       "</g>\n",
       "<!-- 139768335931472 -->\n",
       "<g id=\"node2\" class=\"node\"><title>139768335931472</title>\n",
       "<polygon fill=\"lightgrey\" stroke=\"black\" points=\"435,-86 340,-86 340,-67 435,-67 435,-86\"/>\n",
       "<text text-anchor=\"middle\" x=\"387.5\" y=\"-74\" font-family=\"monospace\" font-size=\"10.00\">MeanBackward0</text>\n",
       "</g>\n",
       "<!-- 139768335931472&#45;&gt;139777906371872 -->\n",
       "<g id=\"edge24\" class=\"edge\"><title>139768335931472&#45;&gt;139777906371872</title>\n",
       "<path fill=\"none\" stroke=\"black\" d=\"M387.5,-66.7943C387.5,-60.0669 387.5,-50.404 387.5,-41.3425\"/>\n",
       "<polygon fill=\"black\" stroke=\"black\" points=\"391,-41.1932 387.5,-31.1933 384,-41.1933 391,-41.1932\"/>\n",
       "</g>\n",
       "<!-- 139777901043216 -->\n",
       "<g id=\"node3\" class=\"node\"><title>139777901043216</title>\n",
       "<polygon fill=\"lightgrey\" stroke=\"black\" points=\"426,-141 349,-141 349,-122 426,-122 426,-141\"/>\n",
       "<text text-anchor=\"middle\" x=\"387.5\" y=\"-129\" font-family=\"monospace\" font-size=\"10.00\">MmBackward</text>\n",
       "</g>\n",
       "<!-- 139777901043216&#45;&gt;139768335931472 -->\n",
       "<g id=\"edge1\" class=\"edge\"><title>139777901043216&#45;&gt;139768335931472</title>\n",
       "<path fill=\"none\" stroke=\"black\" d=\"M387.5,-121.748C387.5,-114.802 387.5,-104.845 387.5,-96.1349\"/>\n",
       "<polygon fill=\"black\" stroke=\"black\" points=\"391,-96.089 387.5,-86.089 384,-96.0891 391,-96.089\"/>\n",
       "</g>\n",
       "<!-- 139768329008208 -->\n",
       "<g id=\"node4\" class=\"node\"><title>139768329008208</title>\n",
       "<polygon fill=\"lightgrey\" stroke=\"black\" points=\"393,-196 316,-196 316,-177 393,-177 393,-196\"/>\n",
       "<text text-anchor=\"middle\" x=\"354.5\" y=\"-184\" font-family=\"monospace\" font-size=\"10.00\">MmBackward</text>\n",
       "</g>\n",
       "<!-- 139768329008208&#45;&gt;139777901043216 -->\n",
       "<g id=\"edge2\" class=\"edge\"><title>139768329008208&#45;&gt;139777901043216</title>\n",
       "<path fill=\"none\" stroke=\"black\" d=\"M359.949,-176.748C364.514,-169.416 371.168,-158.73 376.793,-149.695\"/>\n",
       "<polygon fill=\"black\" stroke=\"black\" points=\"379.838,-151.428 382.152,-141.089 373.895,-147.728 379.838,-151.428\"/>\n",
       "</g>\n",
       "<!-- 139777902720400 -->\n",
       "<g id=\"node5\" class=\"node\"><title>139777902720400</title>\n",
       "<polygon fill=\"lightgrey\" stroke=\"black\" points=\"355,-251 278,-251 278,-232 355,-232 355,-251\"/>\n",
       "<text text-anchor=\"middle\" x=\"316.5\" y=\"-239\" font-family=\"monospace\" font-size=\"10.00\">MmBackward</text>\n",
       "</g>\n",
       "<!-- 139777902720400&#45;&gt;139768329008208 -->\n",
       "<g id=\"edge3\" class=\"edge\"><title>139777902720400&#45;&gt;139768329008208</title>\n",
       "<path fill=\"none\" stroke=\"black\" d=\"M322.775,-231.748C328.087,-224.339 335.855,-213.504 342.375,-204.411\"/>\n",
       "<polygon fill=\"black\" stroke=\"black\" points=\"345.359,-206.255 348.342,-196.089 339.67,-202.177 345.359,-206.255\"/>\n",
       "</g>\n",
       "<!-- 139777667186512 -->\n",
       "<g id=\"node6\" class=\"node\"><title>139777667186512</title>\n",
       "<polygon fill=\"lightgrey\" stroke=\"black\" points=\"317,-306 240,-306 240,-287 317,-287 317,-306\"/>\n",
       "<text text-anchor=\"middle\" x=\"278.5\" y=\"-294\" font-family=\"monospace\" font-size=\"10.00\">MmBackward</text>\n",
       "</g>\n",
       "<!-- 139777667186512&#45;&gt;139777902720400 -->\n",
       "<g id=\"edge4\" class=\"edge\"><title>139777667186512&#45;&gt;139777902720400</title>\n",
       "<path fill=\"none\" stroke=\"black\" d=\"M284.775,-286.748C290.087,-279.339 297.855,-268.504 304.375,-259.411\"/>\n",
       "<polygon fill=\"black\" stroke=\"black\" points=\"307.359,-261.255 310.342,-251.089 301.67,-257.177 307.359,-261.255\"/>\n",
       "</g>\n",
       "<!-- 139777667185872 -->\n",
       "<g id=\"node7\" class=\"node\"><title>139777667185872</title>\n",
       "<polygon fill=\"lightgrey\" stroke=\"black\" points=\"279,-361 202,-361 202,-342 279,-342 279,-361\"/>\n",
       "<text text-anchor=\"middle\" x=\"240.5\" y=\"-349\" font-family=\"monospace\" font-size=\"10.00\">MmBackward</text>\n",
       "</g>\n",
       "<!-- 139777667185872&#45;&gt;139777667186512 -->\n",
       "<g id=\"edge5\" class=\"edge\"><title>139777667185872&#45;&gt;139777667186512</title>\n",
       "<path fill=\"none\" stroke=\"black\" d=\"M246.775,-341.748C252.087,-334.339 259.855,-323.504 266.375,-314.411\"/>\n",
       "<polygon fill=\"black\" stroke=\"black\" points=\"269.359,-316.255 272.342,-306.089 263.67,-312.177 269.359,-316.255\"/>\n",
       "</g>\n",
       "<!-- 139777667185296 -->\n",
       "<g id=\"node8\" class=\"node\"><title>139777667185296</title>\n",
       "<polygon fill=\"lightgrey\" stroke=\"black\" points=\"241,-416 164,-416 164,-397 241,-397 241,-416\"/>\n",
       "<text text-anchor=\"middle\" x=\"202.5\" y=\"-404\" font-family=\"monospace\" font-size=\"10.00\">MmBackward</text>\n",
       "</g>\n",
       "<!-- 139777667185296&#45;&gt;139777667185872 -->\n",
       "<g id=\"edge6\" class=\"edge\"><title>139777667185296&#45;&gt;139777667185872</title>\n",
       "<path fill=\"none\" stroke=\"black\" d=\"M208.775,-396.748C214.087,-389.339 221.855,-378.504 228.375,-369.411\"/>\n",
       "<polygon fill=\"black\" stroke=\"black\" points=\"231.359,-371.255 234.342,-361.089 225.67,-367.177 231.359,-371.255\"/>\n",
       "</g>\n",
       "<!-- 139777667184336 -->\n",
       "<g id=\"node9\" class=\"node\"><title>139777667184336</title>\n",
       "<polygon fill=\"lightgrey\" stroke=\"black\" points=\"203,-471 126,-471 126,-452 203,-452 203,-471\"/>\n",
       "<text text-anchor=\"middle\" x=\"164.5\" y=\"-459\" font-family=\"monospace\" font-size=\"10.00\">MmBackward</text>\n",
       "</g>\n",
       "<!-- 139777667184336&#45;&gt;139777667185296 -->\n",
       "<g id=\"edge7\" class=\"edge\"><title>139777667184336&#45;&gt;139777667185296</title>\n",
       "<path fill=\"none\" stroke=\"black\" d=\"M170.775,-451.748C176.087,-444.339 183.855,-433.504 190.375,-424.411\"/>\n",
       "<polygon fill=\"black\" stroke=\"black\" points=\"193.359,-426.255 196.342,-416.089 187.67,-422.177 193.359,-426.255\"/>\n",
       "</g>\n",
       "<!-- 139777667183632 -->\n",
       "<g id=\"node10\" class=\"node\"><title>139777667183632</title>\n",
       "<polygon fill=\"lightgrey\" stroke=\"black\" points=\"165,-526 88,-526 88,-507 165,-507 165,-526\"/>\n",
       "<text text-anchor=\"middle\" x=\"126.5\" y=\"-514\" font-family=\"monospace\" font-size=\"10.00\">MmBackward</text>\n",
       "</g>\n",
       "<!-- 139777667183632&#45;&gt;139777667184336 -->\n",
       "<g id=\"edge8\" class=\"edge\"><title>139777667183632&#45;&gt;139777667184336</title>\n",
       "<path fill=\"none\" stroke=\"black\" d=\"M132.775,-506.748C138.087,-499.339 145.855,-488.504 152.375,-479.411\"/>\n",
       "<polygon fill=\"black\" stroke=\"black\" points=\"155.359,-481.255 158.342,-471.089 149.67,-477.177 155.359,-481.255\"/>\n",
       "</g>\n",
       "<!-- 139777901870224 -->\n",
       "<g id=\"node11\" class=\"node\"><title>139777901870224</title>\n",
       "<polygon fill=\"lightgrey\" stroke=\"black\" points=\"127,-581 50,-581 50,-562 127,-562 127,-581\"/>\n",
       "<text text-anchor=\"middle\" x=\"88.5\" y=\"-569\" font-family=\"monospace\" font-size=\"10.00\">MmBackward</text>\n",
       "</g>\n",
       "<!-- 139777901870224&#45;&gt;139777667183632 -->\n",
       "<g id=\"edge9\" class=\"edge\"><title>139777901870224&#45;&gt;139777667183632</title>\n",
       "<path fill=\"none\" stroke=\"black\" d=\"M94.7749,-561.748C100.087,-554.339 107.855,-543.504 114.375,-534.411\"/>\n",
       "<polygon fill=\"black\" stroke=\"black\" points=\"117.359,-536.255 120.342,-526.089 111.67,-532.177 117.359,-536.255\"/>\n",
       "</g>\n",
       "<!-- 139777667185424 -->\n",
       "<g id=\"node12\" class=\"node\"><title>139777667185424</title>\n",
       "<polygon fill=\"lightgrey\" stroke=\"black\" points=\"89,-636 12,-636 12,-617 89,-617 89,-636\"/>\n",
       "<text text-anchor=\"middle\" x=\"50.5\" y=\"-624\" font-family=\"monospace\" font-size=\"10.00\">MmBackward</text>\n",
       "</g>\n",
       "<!-- 139777667185424&#45;&gt;139777901870224 -->\n",
       "<g id=\"edge10\" class=\"edge\"><title>139777667185424&#45;&gt;139777901870224</title>\n",
       "<path fill=\"none\" stroke=\"black\" d=\"M56.7749,-616.748C62.0871,-609.339 69.8555,-598.504 76.3754,-589.411\"/>\n",
       "<polygon fill=\"black\" stroke=\"black\" points=\"79.3594,-591.255 82.3418,-581.089 73.6705,-587.177 79.3594,-591.255\"/>\n",
       "</g>\n",
       "<!-- 139777667184912 -->\n",
       "<g id=\"node13\" class=\"node\"><title>139777667184912</title>\n",
       "<polygon fill=\"lightgrey\" stroke=\"black\" points=\"101,-691 0,-691 0,-672 101,-672 101,-691\"/>\n",
       "<text text-anchor=\"middle\" x=\"50.5\" y=\"-679\" font-family=\"monospace\" font-size=\"10.00\">AccumulateGrad</text>\n",
       "</g>\n",
       "<!-- 139777667184912&#45;&gt;139777667185424 -->\n",
       "<g id=\"edge11\" class=\"edge\"><title>139777667184912&#45;&gt;139777667185424</title>\n",
       "<path fill=\"none\" stroke=\"black\" d=\"M50.5,-671.748C50.5,-664.802 50.5,-654.845 50.5,-646.135\"/>\n",
       "<polygon fill=\"black\" stroke=\"black\" points=\"54.0001,-646.089 50.5,-636.089 47.0001,-646.089 54.0001,-646.089\"/>\n",
       "</g>\n",
       "<!-- 139777904368208 -->\n",
       "<g id=\"node14\" class=\"node\"><title>139777904368208</title>\n",
       "<polygon fill=\"lightblue\" stroke=\"black\" points=\"80,-758 21,-758 21,-727 80,-727 80,-758\"/>\n",
       "<text text-anchor=\"middle\" x=\"50.5\" y=\"-734\" font-family=\"monospace\" font-size=\"10.00\"> (1, 2)</text>\n",
       "</g>\n",
       "<!-- 139777904368208&#45;&gt;139777667184912 -->\n",
       "<g id=\"edge12\" class=\"edge\"><title>139777904368208&#45;&gt;139777667184912</title>\n",
       "<path fill=\"none\" stroke=\"black\" d=\"M50.5,-726.916C50.5,-719.221 50.5,-709.688 50.5,-701.43\"/>\n",
       "<polygon fill=\"black\" stroke=\"black\" points=\"54.0001,-701.249 50.5,-691.249 47.0001,-701.249 54.0001,-701.249\"/>\n",
       "</g>\n",
       "<!-- 139777900093776 -->\n",
       "<g id=\"node15\" class=\"node\"><title>139777900093776</title>\n",
       "<polygon fill=\"lightgrey\" stroke=\"black\" points=\"301,-691 200,-691 200,-672 301,-672 301,-691\"/>\n",
       "<text text-anchor=\"middle\" x=\"250.5\" y=\"-679\" font-family=\"monospace\" font-size=\"10.00\">AccumulateGrad</text>\n",
       "</g>\n",
       "<!-- 139777900093776&#45;&gt;139777901043216 -->\n",
       "<g id=\"edge23\" class=\"edge\"><title>139777900093776&#45;&gt;139777901043216</title>\n",
       "<path fill=\"none\" stroke=\"black\" d=\"M297.227,-671.9C347.856,-659.567 421.5,-631.49 421.5,-572.5 421.5,-572.5 421.5,-572.5 421.5,-240.5 421.5,-207.39 406.781,-171.096 396.712,-150.141\"/>\n",
       "<polygon fill=\"black\" stroke=\"black\" points=\"399.829,-148.548 392.228,-141.168 393.567,-151.678 399.829,-148.548\"/>\n",
       "</g>\n",
       "<!-- 139777900093776&#45;&gt;139768329008208 -->\n",
       "<g id=\"edge22\" class=\"edge\"><title>139777900093776&#45;&gt;139768329008208</title>\n",
       "<path fill=\"none\" stroke=\"black\" d=\"M278.058,-671.985C317.014,-658.034 383.5,-626.337 383.5,-572.5 383.5,-572.5 383.5,-572.5 383.5,-295.5 383.5,-262.948 371.059,-226.707 362.475,-205.573\"/>\n",
       "<polygon fill=\"black\" stroke=\"black\" points=\"365.65,-204.094 358.532,-196.246 359.202,-206.82 365.65,-204.094\"/>\n",
       "</g>\n",
       "<!-- 139777900093776&#45;&gt;139777902720400 -->\n",
       "<g id=\"edge21\" class=\"edge\"><title>139777900093776&#45;&gt;139777902720400</title>\n",
       "<path fill=\"none\" stroke=\"black\" d=\"M266.615,-671.878C293.719,-656.071 345.5,-619.696 345.5,-572.5 345.5,-572.5 345.5,-572.5 345.5,-350.5 345.5,-317.948 333.059,-281.707 324.475,-260.573\"/>\n",
       "<polygon fill=\"black\" stroke=\"black\" points=\"327.65,-259.094 320.532,-251.246 321.202,-261.82 327.65,-259.094\"/>\n",
       "</g>\n",
       "<!-- 139777900093776&#45;&gt;139777667186512 -->\n",
       "<g id=\"edge20\" class=\"edge\"><title>139777900093776&#45;&gt;139777667186512</title>\n",
       "<path fill=\"none\" stroke=\"black\" d=\"M258.911,-671.802C274.766,-654.445 307.5,-613.63 307.5,-572.5 307.5,-572.5 307.5,-572.5 307.5,-405.5 307.5,-372.948 295.059,-336.707 286.475,-315.573\"/>\n",
       "<polygon fill=\"black\" stroke=\"black\" points=\"289.65,-314.094 282.532,-306.246 283.202,-316.82 289.65,-314.094\"/>\n",
       "</g>\n",
       "<!-- 139777900093776&#45;&gt;139777667185872 -->\n",
       "<g id=\"edge19\" class=\"edge\"><title>139777900093776&#45;&gt;139777667185872</title>\n",
       "<path fill=\"none\" stroke=\"black\" d=\"M253.062,-671.911C258.249,-653.743 269.5,-610.005 269.5,-572.5 269.5,-572.5 269.5,-572.5 269.5,-460.5 269.5,-427.948 257.059,-391.707 248.475,-370.573\"/>\n",
       "<polygon fill=\"black\" stroke=\"black\" points=\"251.65,-369.094 244.532,-361.246 245.202,-371.82 251.65,-369.094\"/>\n",
       "</g>\n",
       "<!-- 139777900093776&#45;&gt;139777667185296 -->\n",
       "<g id=\"edge18\" class=\"edge\"><title>139777900093776&#45;&gt;139777667185296</title>\n",
       "<path fill=\"none\" stroke=\"black\" d=\"M247.938,-671.911C242.751,-653.743 231.5,-610.005 231.5,-572.5 231.5,-572.5 231.5,-572.5 231.5,-515.5 231.5,-482.948 219.059,-446.707 210.475,-425.573\"/>\n",
       "<polygon fill=\"black\" stroke=\"black\" points=\"213.65,-424.094 206.532,-416.246 207.202,-426.82 213.65,-424.094\"/>\n",
       "</g>\n",
       "<!-- 139777900093776&#45;&gt;139777667184336 -->\n",
       "<g id=\"edge17\" class=\"edge\"><title>139777900093776&#45;&gt;139777667184336</title>\n",
       "<path fill=\"none\" stroke=\"black\" d=\"M242.704,-671.894C235.311,-663.339 224.346,-649.568 217.5,-636 190.722,-582.926 174.62,-513.8 168.007,-481.143\"/>\n",
       "<polygon fill=\"black\" stroke=\"black\" points=\"171.417,-480.341 166.062,-471.198 164.547,-481.684 171.417,-480.341\"/>\n",
       "</g>\n",
       "<!-- 139777900093776&#45;&gt;139777667183632 -->\n",
       "<g id=\"edge16\" class=\"edge\"><title>139777900093776&#45;&gt;139777667183632</title>\n",
       "<path fill=\"none\" stroke=\"black\" d=\"M230.478,-671.944C214.86,-664.414 193.532,-652.137 179.5,-636 153.467,-606.062 138.175,-561.263 131.163,-536.199\"/>\n",
       "<polygon fill=\"black\" stroke=\"black\" points=\"134.457,-534.966 128.514,-526.195 127.69,-536.758 134.457,-534.966\"/>\n",
       "</g>\n",
       "<!-- 139777900093776&#45;&gt;139777901870224 -->\n",
       "<g id=\"edge15\" class=\"edge\"><title>139777900093776&#45;&gt;139777901870224</title>\n",
       "<path fill=\"none\" stroke=\"black\" d=\"M218.357,-671.927C195.467,-664.785 164.763,-653.013 141.5,-636 124.172,-623.327 109.007,-603.8 99.3891,-589.746\"/>\n",
       "<polygon fill=\"black\" stroke=\"black\" points=\"102.081,-587.469 93.6579,-581.042 96.2343,-591.319 102.081,-587.469\"/>\n",
       "</g>\n",
       "<!-- 139777900093776&#45;&gt;139777667185424 -->\n",
       "<g id=\"edge13\" class=\"edge\"><title>139777900093776&#45;&gt;139777667185424</title>\n",
       "<path fill=\"none\" stroke=\"black\" d=\"M218.367,-671.985C184.353,-662.971 130.504,-648.701 93,-638.763\"/>\n",
       "<polygon fill=\"black\" stroke=\"black\" points=\"93.4482,-635.261 82.8853,-636.082 91.6551,-642.027 93.4482,-635.261\"/>\n",
       "</g>\n",
       "<!-- 139777901122496 -->\n",
       "<g id=\"node16\" class=\"node\"><title>139777901122496</title>\n",
       "<polygon fill=\"lightblue\" stroke=\"black\" points=\"280,-758 221,-758 221,-727 280,-727 280,-758\"/>\n",
       "<text text-anchor=\"middle\" x=\"250.5\" y=\"-734\" font-family=\"monospace\" font-size=\"10.00\"> (2, 2)</text>\n",
       "</g>\n",
       "<!-- 139777901122496&#45;&gt;139777900093776 -->\n",
       "<g id=\"edge14\" class=\"edge\"><title>139777901122496&#45;&gt;139777900093776</title>\n",
       "<path fill=\"none\" stroke=\"black\" d=\"M250.5,-726.916C250.5,-719.221 250.5,-709.688 250.5,-701.43\"/>\n",
       "<polygon fill=\"black\" stroke=\"black\" points=\"254,-701.249 250.5,-691.249 247,-701.249 254,-701.249\"/>\n",
       "</g>\n",
       "</g>\n",
       "</svg>\n"
      ],
      "text/plain": [
       "<graphviz.dot.Digraph at 0x7f20943d3090>"
      ]
     },
     "execution_count": 85,
     "metadata": {},
     "output_type": "execute_result"
    }
   ],
   "source": [
    "s = torch.FloatTensor([[0.01,0.02]])\r\n",
    "\r\n",
    "s.requires_grad = True\r\n",
    "\r\n",
    "# s = variable(torch.FloatTensor([[0.01, 0.02]]), requires_grad = True)\r\n",
    "\r\n",
    "x = torch.ones(2,2, requires_grad=True)\r\n",
    "\r\n",
    "for i in range(10):\r\n",
    "    s = s.mm(x)\r\n",
    "    # if s.grad is not None:\r\n",
    "    #     s.grad.data.zero_()\r\n",
    "z = torch.mean(s)\r\n",
    "\r\n",
    "make_dot(z)"
   ]
  },
  {
   "cell_type": "markdown",
   "metadata": {
    "collapsed": false
   },
   "source": [
    "然后我们得到了一个复杂的“深度”计算图："
   ]
  },
  {
   "cell_type": "markdown",
   "metadata": {
    "collapsed": false
   },
   "source": [
    "\n",
    "![](https://ai-studio-static-online.cdn.bcebos.com/da4a32609df244a88fd80efa1c5c6a50d4a33a3746f4408e81a1612604d4cd52)\n",
    "\n"
   ]
  },
  {
   "cell_type": "markdown",
   "metadata": {
    "collapsed": false
   },
   "source": [
    "**▶ 示例代码：**\n",
    "\n",
    "```python\n",
    "z.backward() #在具有很长的依赖路径的计算图上用反向传播算法计算叶节点的梯度\n",
    "print(x.grad)  #x作为叶节点可以获得这部分梯度信息\n",
    "print(s.grad)  #s不是叶节点，没有梯度信息\n",
    "```\n",
    "\n",
    "**▶ 动手练习：**"
   ]
  },
  {
   "cell_type": "code",
   "execution_count": 86,
   "metadata": {
    "collapsed": false
   },
   "outputs": [
    {
     "name": "stdout",
     "output_type": "stream",
     "text": [
      "tensor([[37.1200, 37.1200],\n",
      "        [39.6800, 39.6800]])\n",
      "None\n",
      "None\n"
     ]
    }
   ],
   "source": [
    "z.backward()\r\n",
    "print(x.grad)\r\n",
    "print(s.grad)\r\n",
    "print(z.grad)"
   ]
  },
  {
   "cell_type": "markdown",
   "metadata": {
    "collapsed": false
   },
   "source": [
    "如果大家觉得去理解这个计算图的叶子结点很困难，这也没有关系。\n",
    "\n",
    "因为我们研究的主题是深度学习，PyTorch 框架会自动搭建好计算图的。"
   ]
  },
  {
   "cell_type": "markdown",
   "metadata": {
    "collapsed": false
   },
   "source": [
    "<a href=\"#index\">回到目录</a>"
   ]
  },
  {
   "cell_type": "markdown",
   "metadata": {
    "collapsed": false
   },
   "source": [
    "<h2 ><a id = \"load\">四、利用PyTorch实现简单的线性回归算法</a></h2>"
   ]
  },
  {
   "cell_type": "markdown",
   "metadata": {
    "collapsed": false
   },
   "source": [
    "### 4.1 准备数据"
   ]
  },
  {
   "cell_type": "markdown",
   "metadata": {
    "collapsed": false
   },
   "source": [
    "下面使用 PyTorch 实现一个简单的线性回归算法。\n",
    "\n",
    "线性回归是机器学习中最基础和简单的算法，你可以将它视为深度学习界的 Hello World。\n",
    "\n",
    "如果不了解线性回归，你可以简单的理解为：训练一条直线，让这条直线拟合一些数据点的趋势。\n",
    "\n",
    "大部分的同学在高中或者大学肯定接触过线性回归，所以我在这里也不做过多的介绍了。"
   ]
  },
  {
   "cell_type": "markdown",
   "metadata": {
    "collapsed": false
   },
   "source": [
    "首先生成一些样本点作为原始数据。\n",
    "\n",
    "这些原始“数据点”就是直线需要拟合的对象。"
   ]
  },
  {
   "cell_type": "markdown",
   "metadata": {
    "collapsed": false
   },
   "source": [
    "**▶ 示例代码：**\n",
    "\n",
    "```python\n",
    "# linspace可以生成0-100之间的均匀的100个数字\n",
    "x = Variable(torch.linspace(0, 100).type(torch.FloatTensor)) \n",
    "\n",
    "# 随机生成100个满足标准正态分布的随机数，均值为0，方差为1.\n",
    "# 将这个数字乘以10，标准方差变为10\n",
    "rand = Variable(torch.randn(100)) * 10 \n",
    "\n",
    "# 将x和rand相加，得到伪造的标签数据y。\n",
    "# 所以(x,y)应能近似地落在y=x这条直线上\n",
    "y = x + rand \n",
    "```\n",
    "\n",
    "**▶ 动手练习：**"
   ]
  },
  {
   "cell_type": "code",
   "execution_count": 95,
   "metadata": {
    "collapsed": false
   },
   "outputs": [
    {
     "data": {
      "text/plain": [
       "tensor([  1.6816,  10.9506,  -6.7880,  -1.8987,  16.5585, -10.1294,  22.9765,\n",
       "         -4.9546,  12.3369,   7.1123,  -5.6834,   5.3178,  19.6525,   1.3397,\n",
       "         32.7614,  19.3464,  24.4371,  15.6542,  12.2240,  31.3406,  23.9394,\n",
       "         31.6560,  33.4791,  -4.7083,  40.3691,  13.6640,  29.3291,  33.4666,\n",
       "         30.4138,  35.0532,  21.4697,  29.3856,  29.8920,  46.2761,  27.8076,\n",
       "         32.6102,  35.7804,  18.5913,  30.5873,  34.9404,  41.5102,  45.3021,\n",
       "         51.0213,  54.6298,  47.0787,  42.4091,  27.1066,  52.2828,  56.5550,\n",
       "         33.7013,  46.5362,  54.3850,  53.5347,  64.7278,  59.0400,  52.3559,\n",
       "         43.7980,  63.7968,  71.2621,  48.0002,  56.4818,  57.6759,  66.8946,\n",
       "         67.8537,  66.6496,  73.9896,  70.1298,  72.0486,  65.6981,  60.9132,\n",
       "         75.3147,  84.2085,  94.6580,  81.8560,  81.6147,  70.1915,  59.3266,\n",
       "         87.1359,  81.1230,  87.2387,  85.5404,  98.9612,  70.7767,  81.4399,\n",
       "         98.1922,  58.0229,  86.2279, 109.8041,  92.2024, 102.0803,  78.1015,\n",
       "         86.8483,  93.2815, 115.0695,  71.6467,  98.8222,  85.4858, 106.9761,\n",
       "        102.9445, 103.3610])"
      ]
     },
     "execution_count": 95,
     "metadata": {},
     "output_type": "execute_result"
    }
   ],
   "source": [
    "x = torch.linspace(1,100).type(torch.FloatTensor)\r\n",
    "\r\n",
    "rand = torch.randn(100) * 10\r\n",
    "\r\n",
    "y = x + rand\r\n",
    "\r\n",
    "y"
   ]
  },
  {
   "cell_type": "markdown",
   "metadata": {
    "collapsed": false
   },
   "source": [
    "将生成的原始数据点画在图上，用视觉观察下数据点的“趋势”。"
   ]
  },
  {
   "cell_type": "markdown",
   "metadata": {
    "collapsed": false
   },
   "source": [
    "**▶ 示例代码：**\n",
    "\n",
    "```python\n",
    "import matplotlib.pyplot as plt #导入画图的程序包\n",
    "%matplotlib inline\n",
    "\n",
    "plt.figure(figsize=(10,8)) #设定绘制窗口大小为10*8 inch\n",
    "# 绘制数据，考虑到x和y都是Variable，\n",
    "# 需要用data获取它们包裹的Tensor，并专成numpy\n",
    "plt.plot(x.data.numpy(), y.data.numpy(), 'o') \n",
    "plt.xlabel('X') #添加X轴的标注\n",
    "plt.ylabel('Y') #添加Y周的标注\n",
    "plt.show() #将图形画在下面\n",
    "```\n",
    "\n",
    "**▶ 动手练习：**"
   ]
  },
  {
   "cell_type": "code",
   "execution_count": 119,
   "metadata": {
    "collapsed": false
   },
   "outputs": [
    {
     "data": {
      "text/plain": [
       "[<matplotlib.lines.Line2D at 0x7f2085640f10>]"
      ]
     },
     "execution_count": 119,
     "metadata": {},
     "output_type": "execute_result"
    },
    {
     "data": {
      "image/png": "[encoded data removed]",
      "text/plain": [
       "<Figure size 720x576 with 1 Axes>"
      ]
     },
     "metadata": {},
     "output_type": "display_data"
    }
   ],
   "source": [
    "import matplotlib.pyplot as plt\r\n",
    "%matplotlib inline\r\n",
    "\r\n",
    "plt.figure(figsize=(10,8))\r\n",
    "\r\n",
    "plt.plot(x.data.numpy(), y.data.numpy(), 'o')"
   ]
  },
  {
   "cell_type": "markdown",
   "metadata": {
    "collapsed": false
   },
   "source": [
    "所有的数据点以视觉可见的增势增长。下面我们构造模型，来拟合这些数据点。"
   ]
  },
  {
   "cell_type": "markdown",
   "metadata": {
    "collapsed": false
   },
   "source": [
    "## 4.2 构造模型 计算损失函数"
   ]
  },
  {
   "cell_type": "markdown",
   "metadata": {
    "collapsed": false
   },
   "source": [
    "我们要使用一条直线去拟合若干个点的走势，那在数学上怎么表示这条直线哪？\n",
    "\n",
    "这个大家在高中应该都学过，可以用 `ax+b` 来表示一条直线。\n",
    "\n",
    "因为这条直线是由参数 `a` 和 `b` 控制的，所以模型就是要“学习”出这两个参数。\n",
    "\n",
    "那么下面首先建立变量，随机初始化用于线性拟合的参数 `a` 和 `b`。"
   ]
  },
  {
   "cell_type": "markdown",
   "metadata": {
    "collapsed": false
   },
   "source": [
    "**▶ 示例代码：**\n",
    "\n",
    "```python\n",
    "#创建a变量，并随机赋值初始化\n",
    "a = Variable(torch.rand(1), requires_grad = True) \n",
    "#创建b变量，并随机赋值初始化\n",
    "b = Variable(torch.rand(1), requires_grad = True) \n",
    "print('Initial parameters:', [a, b])\n",
    "```\n",
    "\n",
    "**▶ 动手练习：**"
   ]
  },
  {
   "cell_type": "code",
   "execution_count": 125,
   "metadata": {
    "collapsed": false
   },
   "outputs": [
    {
     "name": "stdout",
     "output_type": "stream",
     "text": [
      "init parameters:  [tensor([0.6936], requires_grad=True), tensor([0.5729], requires_grad=True)]\n"
     ]
    }
   ],
   "source": [
    "a = torch.rand(1, requires_grad = True)\r\n",
    "\r\n",
    "b = torch.rand(1, requires_grad = True)\r\n",
    "\r\n",
    "print('init parameters: ', [a, b])\r\n"
   ]
  },
  {
   "cell_type": "markdown",
   "metadata": {
    "collapsed": false
   },
   "source": [
    "在当前的模型中，这两个参数的初始值无关紧要，因为下面会通过 1000 次的训练，来反复修正这两个参数。"
   ]
  },
  {
   "cell_type": "markdown",
   "metadata": {
    "collapsed": false
   },
   "source": [
    "在下面的代码中，需要注意 `expand_as` 和 `mul` 的使用。\n",
    "\n",
    "首先，a 的维度为 1，x 是维度为 100\\*1 的 Tensor，这两者不能直接相乘，因为维度不同。\n",
    "\n",
    "所以，先要将 a 升维成 1\\*1 的 Tensor。\n",
    "\n",
    "这就好比将原本在直线上的点被升维到了二维平面上，同时直线仍然在二维平面中。\n",
    "\n",
    "```expand_as(x)``` 可以将张量升维成与 x 同维度的张量。所以如果 a = 1, x 为尺寸为 100，\n",
    "\n",
    "那么，a.expand_as(x)$ = (1, 1, \\cdot\\cdot\\cdot, 1)^T$\n",
    "\n",
    "```x * y``` 为两个 1 维张量的乘积，计算结果：\n",
    "\n",
    "$(x * y)_i = x_i \\cdot y_i$"
   ]
  },
  {
   "cell_type": "markdown",
   "metadata": {
    "collapsed": false
   },
   "source": [
    "**▶ 示例代码：**\n",
    "\n",
    "```python\n",
    "learning_rate = 0.0001 #设置学习率\n",
    "for i in range(1000):\n",
    "    ### 下面这三行代码非常重要，这部分代码，清空存储在变量a，b中的梯度信息，\n",
    "    ### 以免在backward的过程中会反复不停地累加\n",
    "    #如果a和b的梯度都不是空\n",
    "    if (a.grad is not None) and (b.grad is not None):  \n",
    "        a.grad.data.zero_() #清空a的数值\n",
    "        b.grad.data.zero_() #清空b的数值\n",
    "    #计算在当前a、b条件下的模型预测数值\n",
    "    predictions = a.expand_as(x) * x + b.expand_as(x)  \n",
    "    #通过与标签数据y比较，计算误差\n",
    "    loss = torch.mean((predictions - y) ** 2) \n",
    "    print('loss:', loss.data.numpy())\n",
    "    loss.backward() #对损失函数进行梯度反传\n",
    "    #利用上一步计算中得到的a的梯度信息更新a中的data数值\n",
    "    a.data.add_(- learning_rate * a.grad.data)\n",
    "    #利用上一步计算中得到的b的梯度信息更新b中的data数值\n",
    "    b.data.add_(- learning_rate * b.grad.data)  \n",
    "```\n",
    "\n",
    "**▶ 动手练习：**"
   ]
  },
  {
   "cell_type": "code",
   "execution_count": 132,
   "metadata": {
    "collapsed": false
   },
   "outputs": [
    {
     "name": "stdout",
     "output_type": "stream",
     "text": [
      "loss:  110.00107\r"
     ]
    }
   ],
   "source": [
    "learning_rate = 0.0001\r\n",
    "\r\n",
    "for i in range(1000):\r\n",
    "    if (a.grad is not None):\r\n",
    "        a.grad.data.zero_()\r\n",
    "        b.grad.data.zero_()\r\n",
    "    \r\n",
    "    predictions = a.expand_as(x) * x + b.expand_as(x)\r\n",
    "    loss = torch.mean( ( predictions - y) ** 2)\r\n",
    "    print( 'loss: ', loss.data.numpy() )\r\n",
    "    loss.backward()\r\n",
    "    a.data.add_( - learning_rate * a.grad.data )\r\n",
    "    b.data.add_( - learning_rate * b.grad.data)"
   ]
  },
  {
   "cell_type": "code",
   "execution_count": 135,
   "metadata": {
    "collapsed": false
   },
   "outputs": [
    {
     "data": {
      "image/svg+xml": [
       "<?xml version=\"1.0\" encoding=\"UTF-8\" standalone=\"no\"?>\n",
       "<!DOCTYPE svg PUBLIC \"-//W3C//DTD SVG 1.1//EN\"\n",
       " \"http://www.w3.org/Graphics/SVG/1.1/DTD/svg11.dtd\">\n",
       "<!-- Generated by graphviz version 2.38.0 (20140413.2041)\n",
       " -->\n",
       "<!-- Title: %3 Pages: 1 -->\n",
       "<svg width=\"228pt\" height=\"503pt\"\n",
       " viewBox=\"0.00 0.00 228.00 503.00\" xmlns=\"http://www.w3.org/2000/svg\" xmlns:xlink=\"http://www.w3.org/1999/xlink\">\n",
       "<g id=\"graph0\" class=\"graph\" transform=\"scale(1 1) rotate(0) translate(4 499)\">\n",
       "<title>%3</title>\n",
       "<polygon fill=\"white\" stroke=\"none\" points=\"-4,4 -4,-499 224,-499 224,4 -4,4\"/>\n",
       "<!-- 139777499377904 -->\n",
       "<g id=\"node1\" class=\"node\"><title>139777499377904</title>\n",
       "<polygon fill=\"#caff70\" stroke=\"black\" points=\"137.5,-31 83.5,-31 83.5,-0 137.5,-0 137.5,-31\"/>\n",
       "<text text-anchor=\"middle\" x=\"110.5\" y=\"-7\" font-family=\"monospace\" font-size=\"10.00\"> ()</text>\n",
       "</g>\n",
       "<!-- 139777507067216 -->\n",
       "<g id=\"node2\" class=\"node\"><title>139777507067216</title>\n",
       "<polygon fill=\"lightgrey\" stroke=\"black\" points=\"158,-86 63,-86 63,-67 158,-67 158,-86\"/>\n",
       "<text text-anchor=\"middle\" x=\"110.5\" y=\"-74\" font-family=\"monospace\" font-size=\"10.00\">MeanBackward0</text>\n",
       "</g>\n",
       "<!-- 139777507067216&#45;&gt;139777499377904 -->\n",
       "<g id=\"edge11\" class=\"edge\"><title>139777507067216&#45;&gt;139777499377904</title>\n",
       "<path fill=\"none\" stroke=\"black\" d=\"M110.5,-66.7943C110.5,-60.0669 110.5,-50.404 110.5,-41.3425\"/>\n",
       "<polygon fill=\"black\" stroke=\"black\" points=\"114,-41.1932 110.5,-31.1933 107,-41.1933 114,-41.1932\"/>\n",
       "</g>\n",
       "<!-- 139777502652240 -->\n",
       "<g id=\"node3\" class=\"node\"><title>139777502652240</title>\n",
       "<polygon fill=\"lightgrey\" stroke=\"black\" points=\"155,-141 66,-141 66,-122 155,-122 155,-141\"/>\n",
       "<text text-anchor=\"middle\" x=\"110.5\" y=\"-129\" font-family=\"monospace\" font-size=\"10.00\">PowBackward0</text>\n",
       "</g>\n",
       "<!-- 139777502652240&#45;&gt;139777507067216 -->\n",
       "<g id=\"edge1\" class=\"edge\"><title>139777502652240&#45;&gt;139777507067216</title>\n",
       "<path fill=\"none\" stroke=\"black\" d=\"M110.5,-121.748C110.5,-114.802 110.5,-104.845 110.5,-96.1349\"/>\n",
       "<polygon fill=\"black\" stroke=\"black\" points=\"114,-96.089 110.5,-86.089 107,-96.0891 114,-96.089\"/>\n",
       "</g>\n",
       "<!-- 139777502650576 -->\n",
       "<g id=\"node4\" class=\"node\"><title>139777502650576</title>\n",
       "<polygon fill=\"lightgrey\" stroke=\"black\" points=\"155,-196 66,-196 66,-177 155,-177 155,-196\"/>\n",
       "<text text-anchor=\"middle\" x=\"110.5\" y=\"-184\" font-family=\"monospace\" font-size=\"10.00\">SubBackward0</text>\n",
       "</g>\n",
       "<!-- 139777502650576&#45;&gt;139777502652240 -->\n",
       "<g id=\"edge2\" class=\"edge\"><title>139777502650576&#45;&gt;139777502652240</title>\n",
       "<path fill=\"none\" stroke=\"black\" d=\"M110.5,-176.748C110.5,-169.802 110.5,-159.845 110.5,-151.135\"/>\n",
       "<polygon fill=\"black\" stroke=\"black\" points=\"114,-151.089 110.5,-141.089 107,-151.089 114,-151.089\"/>\n",
       "</g>\n",
       "<!-- 139777502653264 -->\n",
       "<g id=\"node5\" class=\"node\"><title>139777502653264</title>\n",
       "<polygon fill=\"lightgrey\" stroke=\"black\" points=\"155,-251 66,-251 66,-232 155,-232 155,-251\"/>\n",
       "<text text-anchor=\"middle\" x=\"110.5\" y=\"-239\" font-family=\"monospace\" font-size=\"10.00\">AddBackward0</text>\n",
       "</g>\n",
       "<!-- 139777502653264&#45;&gt;139777502650576 -->\n",
       "<g id=\"edge3\" class=\"edge\"><title>139777502653264&#45;&gt;139777502650576</title>\n",
       "<path fill=\"none\" stroke=\"black\" d=\"M110.5,-231.748C110.5,-224.802 110.5,-214.845 110.5,-206.135\"/>\n",
       "<polygon fill=\"black\" stroke=\"black\" points=\"114,-206.089 110.5,-196.089 107,-206.089 114,-206.089\"/>\n",
       "</g>\n",
       "<!-- 139777502652112 -->\n",
       "<g id=\"node6\" class=\"node\"><title>139777502652112</title>\n",
       "<polygon fill=\"lightgrey\" stroke=\"black\" points=\"98,-306 9,-306 9,-287 98,-287 98,-306\"/>\n",
       "<text text-anchor=\"middle\" x=\"53.5\" y=\"-294\" font-family=\"monospace\" font-size=\"10.00\">MulBackward0</text>\n",
       "</g>\n",
       "<!-- 139777502652112&#45;&gt;139777502653264 -->\n",
       "<g id=\"edge4\" class=\"edge\"><title>139777502652112&#45;&gt;139777502653264</title>\n",
       "<path fill=\"none\" stroke=\"black\" d=\"M62.658,-286.985C71.0015,-279.227 83.5324,-267.575 93.6769,-258.143\"/>\n",
       "<polygon fill=\"black\" stroke=\"black\" points=\"96.2353,-260.543 101.175,-251.17 91.4686,-255.417 96.2353,-260.543\"/>\n",
       "</g>\n",
       "<!-- 139777502650640 -->\n",
       "<g id=\"node7\" class=\"node\"><title>139777502650640</title>\n",
       "<polygon fill=\"lightgrey\" stroke=\"black\" points=\"101,-361 0,-361 0,-342 101,-342 101,-361\"/>\n",
       "<text text-anchor=\"middle\" x=\"50.5\" y=\"-349\" font-family=\"monospace\" font-size=\"10.00\">ExpandBackward</text>\n",
       "</g>\n",
       "<!-- 139777502650640&#45;&gt;139777502652112 -->\n",
       "<g id=\"edge5\" class=\"edge\"><title>139777502650640&#45;&gt;139777502652112</title>\n",
       "<path fill=\"none\" stroke=\"black\" d=\"M50.9954,-341.748C51.3886,-334.802 51.9522,-324.845 52.4452,-316.135\"/>\n",
       "<polygon fill=\"black\" stroke=\"black\" points=\"55.943,-316.271 53.0138,-306.089 48.9542,-315.875 55.943,-316.271\"/>\n",
       "</g>\n",
       "<!-- 139777502653840 -->\n",
       "<g id=\"node8\" class=\"node\"><title>139777502653840</title>\n",
       "<polygon fill=\"lightgrey\" stroke=\"black\" points=\"101,-422 0,-422 0,-403 101,-403 101,-422\"/>\n",
       "<text text-anchor=\"middle\" x=\"50.5\" y=\"-410\" font-family=\"monospace\" font-size=\"10.00\">AccumulateGrad</text>\n",
       "</g>\n",
       "<!-- 139777502653840&#45;&gt;139777502650640 -->\n",
       "<g id=\"edge6\" class=\"edge\"><title>139777502653840&#45;&gt;139777502650640</title>\n",
       "<path fill=\"none\" stroke=\"black\" d=\"M50.5,-402.794C50.5,-394.602 50.5,-382.058 50.5,-371.547\"/>\n",
       "<polygon fill=\"black\" stroke=\"black\" points=\"54.0001,-371.241 50.5,-361.241 47.0001,-371.241 54.0001,-371.241\"/>\n",
       "</g>\n",
       "<!-- 139777907619392 -->\n",
       "<g id=\"node9\" class=\"node\"><title>139777907619392</title>\n",
       "<polygon fill=\"lightblue\" stroke=\"black\" points=\"77.5,-495 23.5,-495 23.5,-464 77.5,-464 77.5,-495\"/>\n",
       "<text text-anchor=\"middle\" x=\"50.5\" y=\"-471\" font-family=\"monospace\" font-size=\"10.00\"> (1)</text>\n",
       "</g>\n",
       "<!-- 139777907619392&#45;&gt;139777502653840 -->\n",
       "<g id=\"edge7\" class=\"edge\"><title>139777907619392&#45;&gt;139777502653840</title>\n",
       "<path fill=\"none\" stroke=\"black\" d=\"M50.5,-463.75C50.5,-454.389 50.5,-442.192 50.5,-432.16\"/>\n",
       "<polygon fill=\"black\" stroke=\"black\" points=\"54.0001,-432.018 50.5,-422.018 47.0001,-432.019 54.0001,-432.018\"/>\n",
       "</g>\n",
       "<!-- 139777502653776 -->\n",
       "<g id=\"node10\" class=\"node\"><title>139777502653776</title>\n",
       "<polygon fill=\"lightgrey\" stroke=\"black\" points=\"218,-306 117,-306 117,-287 218,-287 218,-306\"/>\n",
       "<text text-anchor=\"middle\" x=\"167.5\" y=\"-294\" font-family=\"monospace\" font-size=\"10.00\">ExpandBackward</text>\n",
       "</g>\n",
       "<!-- 139777502653776&#45;&gt;139777502653264 -->\n",
       "<g id=\"edge8\" class=\"edge\"><title>139777502653776&#45;&gt;139777502653264</title>\n",
       "<path fill=\"none\" stroke=\"black\" d=\"M158.342,-286.985C149.999,-279.227 137.468,-267.575 127.323,-258.143\"/>\n",
       "<polygon fill=\"black\" stroke=\"black\" points=\"129.531,-255.417 119.825,-251.17 124.765,-260.543 129.531,-255.417\"/>\n",
       "</g>\n",
       "<!-- 139777507066256 -->\n",
       "<g id=\"node11\" class=\"node\"><title>139777507066256</title>\n",
       "<polygon fill=\"lightgrey\" stroke=\"black\" points=\"220,-361 119,-361 119,-342 220,-342 220,-361\"/>\n",
       "<text text-anchor=\"middle\" x=\"169.5\" y=\"-349\" font-family=\"monospace\" font-size=\"10.00\">AccumulateGrad</text>\n",
       "</g>\n",
       "<!-- 139777507066256&#45;&gt;139777502653776 -->\n",
       "<g id=\"edge9\" class=\"edge\"><title>139777507066256&#45;&gt;139777502653776</title>\n",
       "<path fill=\"none\" stroke=\"black\" d=\"M169.17,-341.748C168.908,-334.802 168.532,-324.845 168.203,-316.135\"/>\n",
       "<polygon fill=\"black\" stroke=\"black\" points=\"171.699,-315.95 167.824,-306.089 164.704,-316.214 171.699,-315.95\"/>\n",
       "</g>\n",
       "<!-- 139777509648416 -->\n",
       "<g id=\"node12\" class=\"node\"><title>139777509648416</title>\n",
       "<polygon fill=\"lightblue\" stroke=\"black\" points=\"196.5,-428 142.5,-428 142.5,-397 196.5,-397 196.5,-428\"/>\n",
       "<text text-anchor=\"middle\" x=\"169.5\" y=\"-404\" font-family=\"monospace\" font-size=\"10.00\"> (1)</text>\n",
       "</g>\n",
       "<!-- 139777509648416&#45;&gt;139777507066256 -->\n",
       "<g id=\"edge10\" class=\"edge\"><title>139777509648416&#45;&gt;139777507066256</title>\n",
       "<path fill=\"none\" stroke=\"black\" d=\"M169.5,-396.916C169.5,-389.221 169.5,-379.688 169.5,-371.43\"/>\n",
       "<polygon fill=\"black\" stroke=\"black\" points=\"173,-371.249 169.5,-361.249 166,-371.249 173,-371.249\"/>\n",
       "</g>\n",
       "</g>\n",
       "</svg>\n"
      ],
      "text/plain": [
       "<graphviz.dot.Digraph at 0x7f207ca80450>"
      ]
     },
     "execution_count": 135,
     "metadata": {},
     "output_type": "execute_result"
    }
   ],
   "source": [
    "make_dot(loss)"
   ]
  },
  {
   "cell_type": "markdown",
   "metadata": {
    "collapsed": false
   },
   "source": [
    "从打印出的损失中我们可以观察到损失一直在下降。\n",
    "\n",
    "我们现在可以把直线绘制出来，看看这条直线是什么样子。"
   ]
  },
  {
   "cell_type": "markdown",
   "metadata": {
    "collapsed": false
   },
   "source": [
    "**▶ 示例代码：**\n",
    "\n",
    "```python\n",
    "x_data = x.data.numpy() # 获得x包裹的数据\n",
    "plt.figure(figsize = (10, 7)) #设定绘图窗口大小\n",
    "xplot, = plt.plot(x_data, y.data.numpy(), 'o') # 绘制原始数据\n",
    "yplot, = plt.plot(x_data, a.data.numpy() * x_data + b.data.numpy())  #绘制拟合数据\n",
    "plt.xlabel('X') #更改坐标轴标注\n",
    "plt.ylabel('Y') #更改坐标轴标注\n",
    "str1 = str(a.data.numpy()[0]) + 'x +' + str(b.data.numpy()[0]) #图例信息\n",
    "plt.legend([xplot, yplot],['Data', str1]) #绘制图例\n",
    "plt.show()\n",
    "```\n",
    "\n",
    "**▶ 动手练习：**"
   ]
  },
  {
   "cell_type": "code",
   "execution_count": 142,
   "metadata": {
    "collapsed": false
   },
   "outputs": [
    {
     "data": {
      "image/png": "[encoded data removed]",
      "text/plain": [
       "<Figure size 720x504 with 1 Axes>"
      ]
     },
     "metadata": {},
     "output_type": "display_data"
    }
   ],
   "source": [
    "x_data = x.data.numpy()\r\n",
    "\r\n",
    "plt.figure( figsize = (10,7))\r\n",
    "\r\n",
    "xplot, = plt.plot(x_data, y.data.numpy(), 'o')\r\n",
    "yplot, = plt.plot(x_data, a.data.numpy() * x_data + b.data.numpy() )\r\n",
    "\r\n",
    "plt.xlabel('x')\r\n",
    "plt.ylabel('y')\r\n",
    "\r\n",
    "str1 = str(a.data.numpy()[0]) + ' x + ' + str(b.data.numpy()[0])\r\n",
    "\r\n",
    "plt.legend([xplot, yplot], ['data', str1])\r\n",
    "\r\n",
    "plt.show()"
   ]
  },
  {
   "cell_type": "markdown",
   "metadata": {
    "collapsed": false
   },
   "source": [
    "可以观察到直线已经拟合了点的走势。\n",
    "\n",
    "你可以修改训练次数，把训练次数改的很小，或者增加 10 倍，看看线性拟合会有什么变化。"
   ]
  },
  {
   "cell_type": "markdown",
   "metadata": {
    "collapsed": false
   },
   "source": [
    "### 4.3 测试模型"
   ]
  },
  {
   "cell_type": "markdown",
   "metadata": {
    "collapsed": false
   },
   "source": [
    "虽然模型很简单，但我们仍要进行测试的流程。\n",
    "\n",
    "因为“准备数据”、“模型设计”、“训练”、“测试”是完成深度学习任务的基本套路。"
   ]
  },
  {
   "cell_type": "markdown",
   "metadata": {
    "collapsed": false
   },
   "source": [
    "**▶ 示例代码：**\n",
    "\n",
    "```python\n",
    "x_test = Variable(torch.FloatTensor([1, 2, 10, 100, 1000])) #随便选择一些点1，2，……，1000\n",
    "predictions = a.expand_as(x_test) * x_test + b.expand_as(x_test) #计算模型的预测结果\n",
    "predictions #输出\n",
    "```\n",
    "\n",
    "**▶ 动手练习：**"
   ]
  },
  {
   "cell_type": "code",
   "execution_count": 143,
   "metadata": {
    "collapsed": false
   },
   "outputs": [
    {
     "data": {
      "text/plain": [
       "tensor([   1.4967,    2.4998,   10.5245,  100.8031, 1003.5885],\n",
       "       grad_fn=<AddBackward0>)"
      ]
     },
     "execution_count": 143,
     "metadata": {},
     "output_type": "execute_result"
    }
   ],
   "source": [
    "x_test = torch.FloatTensor([1,2,10,100,1000])\r\n",
    "predictions = a.expand_as(x_test) * x_test + b.expand_as(x_test)\r\n",
    "predictions"
   ]
  },
  {
   "cell_type": "markdown",
   "metadata": {
    "collapsed": false
   },
   "source": [
    "<a href=\"#index\">回到目录</a>"
   ]
  },
  {
   "cell_type": "markdown",
   "metadata": {
    "collapsed": false
   },
   "source": [
    "## 五、实验总结\n",
    "\n",
    "在本节实验中，我们熟悉了张量、自动微分变量的用法，认识了PyTorch中的计算图，并动手实践完成了一个线性回归模型。如果你亲自动手实践了每一行代码，我相信你对PyTorch的基本用法一定有了些许了解。在本节实验中积累的经验非常重要，因为你在以后的实验中会一直用到今天学习的知识点。"
   ]
  },
  {
   "cell_type": "markdown",
   "metadata": {
    "collapsed": false
   },
   "source": [
    "## 六、参考链接\n",
    "\n",
    "Tensor 支持的所有操作：\n",
    "\n",
    "http://pytorch.org/docs/0.3.0/tensors.html"
   ]
  },
  {
   "cell_type": "markdown",
   "metadata": {
    "collapsed": false
   },
   "source": [
    "<div style=\"color: #999;font-size: 12px;\">©️ 本课程内容，由作者授权学堂在线发布，未经允许，禁止转载、下载及非法传播。</div>"
   ]
  }
 ],
 "metadata": {
  "kernelspec": {
   "display_name": "PaddlePaddle 1.8.0 (Python 3.5)",
   "language": "python",
   "name": "py35-paddle1.2.0"
  },
  "language_info": {
   "codemirror_mode": {
    "name": "ipython",
    "version": 3
   },
   "file_extension": ".py",
   "mimetype": "text/x-python",
   "name": "python",
   "nbconvert_exporter": "python",
   "pygments_lexer": "ipython3",
   "version": "3.7.4"
  }
 },
 "nbformat": 4,
 "nbformat_minor": 1
}
